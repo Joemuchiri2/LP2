{
 "cells": [
  {
   "cell_type": "markdown",
   "metadata": {},
   "source": [
    "# Vodafone Customer Churn Project"
   ]
  },
  {
   "cell_type": "markdown",
   "metadata": {},
   "source": [
    "### **Project Description**\n",
    "#### Customer Churn is the percentage of customers that stopped using a companys' product or service during a certain time frame.In business, understanding the primary cause of a customer churn can assist businesses to create a retention strategy to reduce customer churn and as such boost revenue.This project seeks to build a powerful machine learning pipeline that will estimate or predict the likelihood of a customer leaving vodafone or not."
   ]
  },
  {
   "cell_type": "markdown",
   "metadata": {},
   "source": [
    "### **Null Hypothesis**: Customers with high monthly charges do not have the tendency to churn\n",
    "\n",
    "### **Alternate Hypothesis**:Customers with high monthly Charges have the tendency to churn"
   ]
  },
  {
   "cell_type": "markdown",
   "metadata": {},
   "source": [
    "### **Analytical Questions**\n",
    "#### 1.  Which payment method is the most popular?\n",
    "#### 2.  Which internet service was purchased the most?\n",
    "#### 3.  Which gender recorded the highest churn\n",
    "#### 4.  Which one of the contract types did the highest churn\n",
    "#### 5.  Which age group did the highest churn\n",
    "#### 6.  Does high monthly charges affect the churn rate"
   ]
  },
  {
   "cell_type": "code",
   "execution_count": 210,
   "metadata": {},
   "outputs": [],
   "source": [
    "# Data manipulation packages\n",
    "import pandas as pd  # Pandas provides data structures for efficiently storing large datasets and tools for data analysis.\n",
    "import numpy as np   # NumPy is used for numerical operations and array manipulations.\n",
    "\n",
    "# Data Visualization packages\n",
    "import matplotlib.pyplot as plt  # Matplotlib is a 2D plotting library for creating static, animated, and interactive visualizations in Python.\n",
    "import seaborn as sns  # Seaborn is a statistical data visualization library based on Matplotlib. It provides a high-level interface for drawing attractive and informative statistical graphics.\n",
    "\n",
    "# Machine learning Packages\n",
    "from sklearn.pipeline import Pipeline  \n",
    "from sklearn.compose import ColumnTransformer  # ColumnTransformer allows applying different transformers to different columns in a dataset.\n",
    "from sklearn.impute import SimpleImputer  # SimpleImputer is used for handling missing data by imputing missing values with specified strategies.\n",
    "from sklearn.preprocessing import StandardScaler, MinMaxScaler, RobustScaler  # These classes provide different methods for scaling/normalizing numerical features.\n",
    "from sklearn.preprocessing import OneHotEncoder, LabelEncoder, OrdinalEncoder  # These classes handle categorical feature encoding (one-hot, label, and ordinal encoding).\n",
    "from sklearn.preprocessing import FunctionTransformer  # FunctionTransformer allows applying custom functions to transform data.\n",
    "from sklearn.tree import DecisionTreeClassifier  # DecisionTreeClassifier is an implementation of a decision tree classifier.\n",
    "from sklearn.metrics import accuracy_score, classification_report  # These metrics are used for evaluating classification model performance.\n",
    "from sklearn.model_selection import train_test_split  # train_test_split is used to split a dataset into training and testing sets.\n",
    "from sklearn import set_config  # set_config allows configuring global scikit-learn behavior.\n",
    "from sklearn.ensemble import RandomForestClassifier  # RandomForestClassifier is an ensemble learning method based on decision trees.\n",
    "from sklearn.svm import SVC  # Support Vector Classifier (SVC) is a classifier that uses support vector machines for classification.\n",
    "from sklearn.preprocessing import PowerTransformer  # PowerTransformer applies power transformations to make data more Gaussian-like.\n",
    "from sklearn.naive_bayes import GaussianNB  # Gaussian Naive Bayes is a probabilistic classifier based on the Gaussian distribution.\n",
    "from sklearn.ensemble import GradientBoostingClassifier  # GradientBoostingClassifier is an ensemble method that builds a sequence of weak learners (trees).\n",
    "from scipy.stats import pearsonr  # Pearson correlation coefficient measures the linear relationship between two variables.\n",
    "from sklearn.model_selection import cross_val_score  # cross_val_score is used for cross-validated model performance evaluation.\n",
    "from imblearn.under_sampling import RandomUnderSampler  # RandomUnderSampler is used for under-sampling to address class imbalance.\n",
    "from imblearn.over_sampling import RandomOverSampler, SMOTE  # RandomOverSampler and SMOTE are used for over-sampling to address class imbalance.\n",
    "from sklearn.feature_selection import SelectKBest, mutual_info_classif  # SelectKBest performs feature selection based on scoring functions like mutual information.\n",
    "from imblearn.over_sampling import SMOTE  # SMOTE is a technique for generating synthetic samples to address class imbalance.\n",
    "from sklearn.datasets import make_classification  # make_classification generates a synthetic dataset for classification.\n",
    "from sklearn.metrics import roc_curve, roc_auc_score  # roc_curve and roc_auc_score are used for Receiver Operating Characteristic (ROC) curve analysis.\n",
    "from sklearn.metrics import confusion_matrix  # confusion_matrix calculates the confusion matrix for classification models.\n",
    "from sklearn.model_selection import GridSearchCV  # GridSearchCV performs hyperparameter tuning using grid search.\n",
    "import joblib\n",
    "import os\n",
    "\n",
    "\n",
    "\n",
    "\n",
    "\n",
    "\n",
    "\n",
    "# Database connection package\n",
    "import pyodbc  # PyODBC is a Python module that makes accessing ODBC databases simple.\n",
    "from dotenv import dotenv_values  # dotenv loads environment variables from a .env file.\n",
    "\n",
    "# Ignore warnings (optional)\n",
    "import warnings  # The warnings module provides a way to handle warnings in Python.\n",
    "warnings.filterwarnings(\"ignore\")\n"
   ]
  },
  {
   "cell_type": "markdown",
   "metadata": {},
   "source": [
    "# Step 1: Data Exploration and Understanding"
   ]
  },
  {
   "cell_type": "markdown",
   "metadata": {},
   "source": [
    "Load your dataset into a Pandas DataFrame."
   ]
  },
  {
   "cell_type": "code",
   "execution_count": 211,
   "metadata": {},
   "outputs": [],
   "source": [
    "# Load environment variables from .env file into a dictionary\n",
    "environment_variables = dotenv_values('.env')\n",
    "\n",
    "# Get the values for the credentials you set in the '.env' file\n",
    "server = environment_variables.get(\"server_name\")\n",
    "database = environment_variables.get(\"database_name\")\n",
    "username = environment_variables.get(\"username\")\n",
    "password = environment_variables.get(\"password\")"
   ]
  },
  {
   "cell_type": "code",
   "execution_count": 212,
   "metadata": {},
   "outputs": [],
   "source": [
    "# Create a connection string\n",
    "connection_string = f\"DRIVER={{SQL Server}};SERVER={server};DATABASE={database};UID={username};PWD={password};MARS_Connection=yes;MinP\""
   ]
  },
  {
   "cell_type": "code",
   "execution_count": 213,
   "metadata": {},
   "outputs": [],
   "source": [
    "# Use the connect method of the pyodbc library and pass in the connection string.\n",
    "# This will connect to the server \n",
    "\n",
    "\n",
    "connection = pyodbc.connect(connection_string)"
   ]
  },
  {
   "cell_type": "code",
   "execution_count": 214,
   "metadata": {},
   "outputs": [],
   "source": [
    "# Now the sql query to get the data is what what you see below. \n",
    "# Note that you will not have permissions to insert delete or update this database table. \n",
    "\n",
    "query = \"SELECT * FROM LP2_Telco_churn_first_3000\"\n",
    "\n",
    "First_Churn = pd.read_sql(query, connection)"
   ]
  },
  {
   "cell_type": "code",
   "execution_count": 215,
   "metadata": {},
   "outputs": [],
   "source": [
    "\n",
    "# Load the third dataset (it's a CSV file named 'LP2_Telco-churn-last-2000.csv')\n",
    "data_3 = pd.read_csv('LP2_Telco-churn-last-2000.csv')"
   ]
  },
  {
   "cell_type": "code",
   "execution_count": 216,
   "metadata": {},
   "outputs": [
    {
     "data": {
      "text/html": [
       "<div>\n",
       "<style scoped>\n",
       "    .dataframe tbody tr th:only-of-type {\n",
       "        vertical-align: middle;\n",
       "    }\n",
       "\n",
       "    .dataframe tbody tr th {\n",
       "        vertical-align: top;\n",
       "    }\n",
       "\n",
       "    .dataframe thead th {\n",
       "        text-align: right;\n",
       "    }\n",
       "</style>\n",
       "<table border=\"1\" class=\"dataframe\">\n",
       "  <thead>\n",
       "    <tr style=\"text-align: right;\">\n",
       "      <th></th>\n",
       "      <th>count</th>\n",
       "      <th>unique</th>\n",
       "      <th>top</th>\n",
       "      <th>freq</th>\n",
       "    </tr>\n",
       "  </thead>\n",
       "  <tbody>\n",
       "    <tr>\n",
       "      <th>customerID</th>\n",
       "      <td>2043</td>\n",
       "      <td>2043</td>\n",
       "      <td>5600-PDUJF</td>\n",
       "      <td>1</td>\n",
       "    </tr>\n",
       "    <tr>\n",
       "      <th>gender</th>\n",
       "      <td>2043</td>\n",
       "      <td>2</td>\n",
       "      <td>Male</td>\n",
       "      <td>1022</td>\n",
       "    </tr>\n",
       "    <tr>\n",
       "      <th>Partner</th>\n",
       "      <td>2043</td>\n",
       "      <td>2</td>\n",
       "      <td>No</td>\n",
       "      <td>1047</td>\n",
       "    </tr>\n",
       "    <tr>\n",
       "      <th>Dependents</th>\n",
       "      <td>2043</td>\n",
       "      <td>2</td>\n",
       "      <td>No</td>\n",
       "      <td>1412</td>\n",
       "    </tr>\n",
       "    <tr>\n",
       "      <th>PhoneService</th>\n",
       "      <td>2043</td>\n",
       "      <td>2</td>\n",
       "      <td>Yes</td>\n",
       "      <td>1823</td>\n",
       "    </tr>\n",
       "    <tr>\n",
       "      <th>MultipleLines</th>\n",
       "      <td>2043</td>\n",
       "      <td>3</td>\n",
       "      <td>No</td>\n",
       "      <td>987</td>\n",
       "    </tr>\n",
       "    <tr>\n",
       "      <th>InternetService</th>\n",
       "      <td>2043</td>\n",
       "      <td>3</td>\n",
       "      <td>Fiber optic</td>\n",
       "      <td>905</td>\n",
       "    </tr>\n",
       "    <tr>\n",
       "      <th>OnlineSecurity</th>\n",
       "      <td>2043</td>\n",
       "      <td>3</td>\n",
       "      <td>No</td>\n",
       "      <td>1029</td>\n",
       "    </tr>\n",
       "    <tr>\n",
       "      <th>OnlineBackup</th>\n",
       "      <td>2043</td>\n",
       "      <td>3</td>\n",
       "      <td>No</td>\n",
       "      <td>911</td>\n",
       "    </tr>\n",
       "    <tr>\n",
       "      <th>DeviceProtection</th>\n",
       "      <td>2043</td>\n",
       "      <td>3</td>\n",
       "      <td>No</td>\n",
       "      <td>923</td>\n",
       "    </tr>\n",
       "    <tr>\n",
       "      <th>TechSupport</th>\n",
       "      <td>2043</td>\n",
       "      <td>3</td>\n",
       "      <td>No</td>\n",
       "      <td>996</td>\n",
       "    </tr>\n",
       "    <tr>\n",
       "      <th>StreamingTV</th>\n",
       "      <td>2043</td>\n",
       "      <td>3</td>\n",
       "      <td>No</td>\n",
       "      <td>828</td>\n",
       "    </tr>\n",
       "    <tr>\n",
       "      <th>StreamingMovies</th>\n",
       "      <td>2043</td>\n",
       "      <td>3</td>\n",
       "      <td>No</td>\n",
       "      <td>831</td>\n",
       "    </tr>\n",
       "    <tr>\n",
       "      <th>Contract</th>\n",
       "      <td>2043</td>\n",
       "      <td>3</td>\n",
       "      <td>Month-to-month</td>\n",
       "      <td>1103</td>\n",
       "    </tr>\n",
       "    <tr>\n",
       "      <th>PaperlessBilling</th>\n",
       "      <td>2043</td>\n",
       "      <td>2</td>\n",
       "      <td>Yes</td>\n",
       "      <td>1220</td>\n",
       "    </tr>\n",
       "    <tr>\n",
       "      <th>PaymentMethod</th>\n",
       "      <td>2043</td>\n",
       "      <td>4</td>\n",
       "      <td>Electronic check</td>\n",
       "      <td>696</td>\n",
       "    </tr>\n",
       "    <tr>\n",
       "      <th>TotalCharges</th>\n",
       "      <td>2043</td>\n",
       "      <td>1991</td>\n",
       "      <td>20.2</td>\n",
       "      <td>5</td>\n",
       "    </tr>\n",
       "    <tr>\n",
       "      <th>Churn</th>\n",
       "      <td>2043</td>\n",
       "      <td>2</td>\n",
       "      <td>No</td>\n",
       "      <td>1487</td>\n",
       "    </tr>\n",
       "  </tbody>\n",
       "</table>\n",
       "</div>"
      ],
      "text/plain": [
       "                 count unique               top  freq\n",
       "customerID        2043   2043        5600-PDUJF     1\n",
       "gender            2043      2              Male  1022\n",
       "Partner           2043      2                No  1047\n",
       "Dependents        2043      2                No  1412\n",
       "PhoneService      2043      2               Yes  1823\n",
       "MultipleLines     2043      3                No   987\n",
       "InternetService   2043      3       Fiber optic   905\n",
       "OnlineSecurity    2043      3                No  1029\n",
       "OnlineBackup      2043      3                No   911\n",
       "DeviceProtection  2043      3                No   923\n",
       "TechSupport       2043      3                No   996\n",
       "StreamingTV       2043      3                No   828\n",
       "StreamingMovies   2043      3                No   831\n",
       "Contract          2043      3    Month-to-month  1103\n",
       "PaperlessBilling  2043      2               Yes  1220\n",
       "PaymentMethod     2043      4  Electronic check   696\n",
       "TotalCharges      2043   1991              20.2     5\n",
       "Churn             2043      2                No  1487"
      ]
     },
     "execution_count": 216,
     "metadata": {},
     "output_type": "execute_result"
    }
   ],
   "source": [
    "data_3.describe(include ='object').T"
   ]
  },
  {
   "cell_type": "code",
   "execution_count": 217,
   "metadata": {},
   "outputs": [
    {
     "data": {
      "text/html": [
       "<div>\n",
       "<style scoped>\n",
       "    .dataframe tbody tr th:only-of-type {\n",
       "        vertical-align: middle;\n",
       "    }\n",
       "\n",
       "    .dataframe tbody tr th {\n",
       "        vertical-align: top;\n",
       "    }\n",
       "\n",
       "    .dataframe thead th {\n",
       "        text-align: right;\n",
       "    }\n",
       "</style>\n",
       "<table border=\"1\" class=\"dataframe\">\n",
       "  <thead>\n",
       "    <tr style=\"text-align: right;\">\n",
       "      <th></th>\n",
       "      <th>count</th>\n",
       "      <th>unique</th>\n",
       "      <th>top</th>\n",
       "      <th>freq</th>\n",
       "    </tr>\n",
       "  </thead>\n",
       "  <tbody>\n",
       "    <tr>\n",
       "      <th>customerID</th>\n",
       "      <td>3000</td>\n",
       "      <td>3000</td>\n",
       "      <td>7590-VHVEG</td>\n",
       "      <td>1</td>\n",
       "    </tr>\n",
       "    <tr>\n",
       "      <th>gender</th>\n",
       "      <td>3000</td>\n",
       "      <td>2</td>\n",
       "      <td>Male</td>\n",
       "      <td>1537</td>\n",
       "    </tr>\n",
       "    <tr>\n",
       "      <th>MultipleLines</th>\n",
       "      <td>2731</td>\n",
       "      <td>2</td>\n",
       "      <td>False</td>\n",
       "      <td>1437</td>\n",
       "    </tr>\n",
       "    <tr>\n",
       "      <th>InternetService</th>\n",
       "      <td>3000</td>\n",
       "      <td>3</td>\n",
       "      <td>Fiber optic</td>\n",
       "      <td>1343</td>\n",
       "    </tr>\n",
       "    <tr>\n",
       "      <th>OnlineSecurity</th>\n",
       "      <td>2349</td>\n",
       "      <td>2</td>\n",
       "      <td>False</td>\n",
       "      <td>1478</td>\n",
       "    </tr>\n",
       "    <tr>\n",
       "      <th>OnlineBackup</th>\n",
       "      <td>2349</td>\n",
       "      <td>2</td>\n",
       "      <td>False</td>\n",
       "      <td>1320</td>\n",
       "    </tr>\n",
       "    <tr>\n",
       "      <th>DeviceProtection</th>\n",
       "      <td>2349</td>\n",
       "      <td>2</td>\n",
       "      <td>False</td>\n",
       "      <td>1296</td>\n",
       "    </tr>\n",
       "    <tr>\n",
       "      <th>TechSupport</th>\n",
       "      <td>2349</td>\n",
       "      <td>2</td>\n",
       "      <td>False</td>\n",
       "      <td>1476</td>\n",
       "    </tr>\n",
       "    <tr>\n",
       "      <th>StreamingTV</th>\n",
       "      <td>2349</td>\n",
       "      <td>2</td>\n",
       "      <td>False</td>\n",
       "      <td>1190</td>\n",
       "    </tr>\n",
       "    <tr>\n",
       "      <th>StreamingMovies</th>\n",
       "      <td>2349</td>\n",
       "      <td>2</td>\n",
       "      <td>True</td>\n",
       "      <td>1199</td>\n",
       "    </tr>\n",
       "    <tr>\n",
       "      <th>Contract</th>\n",
       "      <td>3000</td>\n",
       "      <td>3</td>\n",
       "      <td>Month-to-month</td>\n",
       "      <td>1641</td>\n",
       "    </tr>\n",
       "    <tr>\n",
       "      <th>PaymentMethod</th>\n",
       "      <td>3000</td>\n",
       "      <td>4</td>\n",
       "      <td>Electronic check</td>\n",
       "      <td>1004</td>\n",
       "    </tr>\n",
       "    <tr>\n",
       "      <th>Churn</th>\n",
       "      <td>2999</td>\n",
       "      <td>2</td>\n",
       "      <td>False</td>\n",
       "      <td>2219</td>\n",
       "    </tr>\n",
       "  </tbody>\n",
       "</table>\n",
       "</div>"
      ],
      "text/plain": [
       "                 count unique               top  freq\n",
       "customerID        3000   3000        7590-VHVEG     1\n",
       "gender            3000      2              Male  1537\n",
       "MultipleLines     2731      2             False  1437\n",
       "InternetService   3000      3       Fiber optic  1343\n",
       "OnlineSecurity    2349      2             False  1478\n",
       "OnlineBackup      2349      2             False  1320\n",
       "DeviceProtection  2349      2             False  1296\n",
       "TechSupport       2349      2             False  1476\n",
       "StreamingTV       2349      2             False  1190\n",
       "StreamingMovies   2349      2              True  1199\n",
       "Contract          3000      3    Month-to-month  1641\n",
       "PaymentMethod     3000      4  Electronic check  1004\n",
       "Churn             2999      2             False  2219"
      ]
     },
     "execution_count": 217,
     "metadata": {},
     "output_type": "execute_result"
    }
   ],
   "source": [
    "First_Churn.describe(include ='object').T"
   ]
  },
  {
   "cell_type": "code",
   "execution_count": 218,
   "metadata": {},
   "outputs": [
    {
     "data": {
      "text/html": [
       "<div>\n",
       "<style scoped>\n",
       "    .dataframe tbody tr th:only-of-type {\n",
       "        vertical-align: middle;\n",
       "    }\n",
       "\n",
       "    .dataframe tbody tr th {\n",
       "        vertical-align: top;\n",
       "    }\n",
       "\n",
       "    .dataframe thead th {\n",
       "        text-align: right;\n",
       "    }\n",
       "</style>\n",
       "<table border=\"1\" class=\"dataframe\">\n",
       "  <thead>\n",
       "    <tr style=\"text-align: right;\">\n",
       "      <th></th>\n",
       "      <th>customerID</th>\n",
       "      <th>gender</th>\n",
       "      <th>SeniorCitizen</th>\n",
       "      <th>Partner</th>\n",
       "      <th>Dependents</th>\n",
       "      <th>tenure</th>\n",
       "      <th>PhoneService</th>\n",
       "      <th>MultipleLines</th>\n",
       "      <th>InternetService</th>\n",
       "      <th>OnlineSecurity</th>\n",
       "      <th>...</th>\n",
       "      <th>DeviceProtection</th>\n",
       "      <th>TechSupport</th>\n",
       "      <th>StreamingTV</th>\n",
       "      <th>StreamingMovies</th>\n",
       "      <th>Contract</th>\n",
       "      <th>PaperlessBilling</th>\n",
       "      <th>PaymentMethod</th>\n",
       "      <th>MonthlyCharges</th>\n",
       "      <th>TotalCharges</th>\n",
       "      <th>Churn</th>\n",
       "    </tr>\n",
       "  </thead>\n",
       "  <tbody>\n",
       "    <tr>\n",
       "      <th>0</th>\n",
       "      <td>7590-VHVEG</td>\n",
       "      <td>Female</td>\n",
       "      <td>False</td>\n",
       "      <td>True</td>\n",
       "      <td>False</td>\n",
       "      <td>1</td>\n",
       "      <td>False</td>\n",
       "      <td>None</td>\n",
       "      <td>DSL</td>\n",
       "      <td>False</td>\n",
       "      <td>...</td>\n",
       "      <td>False</td>\n",
       "      <td>False</td>\n",
       "      <td>False</td>\n",
       "      <td>False</td>\n",
       "      <td>Month-to-month</td>\n",
       "      <td>True</td>\n",
       "      <td>Electronic check</td>\n",
       "      <td>29.850000</td>\n",
       "      <td>29.850000</td>\n",
       "      <td>False</td>\n",
       "    </tr>\n",
       "    <tr>\n",
       "      <th>1</th>\n",
       "      <td>5575-GNVDE</td>\n",
       "      <td>Male</td>\n",
       "      <td>False</td>\n",
       "      <td>False</td>\n",
       "      <td>False</td>\n",
       "      <td>34</td>\n",
       "      <td>True</td>\n",
       "      <td>False</td>\n",
       "      <td>DSL</td>\n",
       "      <td>True</td>\n",
       "      <td>...</td>\n",
       "      <td>True</td>\n",
       "      <td>False</td>\n",
       "      <td>False</td>\n",
       "      <td>False</td>\n",
       "      <td>One year</td>\n",
       "      <td>False</td>\n",
       "      <td>Mailed check</td>\n",
       "      <td>56.950001</td>\n",
       "      <td>1889.500000</td>\n",
       "      <td>False</td>\n",
       "    </tr>\n",
       "    <tr>\n",
       "      <th>2</th>\n",
       "      <td>3668-QPYBK</td>\n",
       "      <td>Male</td>\n",
       "      <td>False</td>\n",
       "      <td>False</td>\n",
       "      <td>False</td>\n",
       "      <td>2</td>\n",
       "      <td>True</td>\n",
       "      <td>False</td>\n",
       "      <td>DSL</td>\n",
       "      <td>True</td>\n",
       "      <td>...</td>\n",
       "      <td>False</td>\n",
       "      <td>False</td>\n",
       "      <td>False</td>\n",
       "      <td>False</td>\n",
       "      <td>Month-to-month</td>\n",
       "      <td>True</td>\n",
       "      <td>Mailed check</td>\n",
       "      <td>53.849998</td>\n",
       "      <td>108.150002</td>\n",
       "      <td>True</td>\n",
       "    </tr>\n",
       "    <tr>\n",
       "      <th>3</th>\n",
       "      <td>7795-CFOCW</td>\n",
       "      <td>Male</td>\n",
       "      <td>False</td>\n",
       "      <td>False</td>\n",
       "      <td>False</td>\n",
       "      <td>45</td>\n",
       "      <td>False</td>\n",
       "      <td>None</td>\n",
       "      <td>DSL</td>\n",
       "      <td>True</td>\n",
       "      <td>...</td>\n",
       "      <td>True</td>\n",
       "      <td>True</td>\n",
       "      <td>False</td>\n",
       "      <td>False</td>\n",
       "      <td>One year</td>\n",
       "      <td>False</td>\n",
       "      <td>Bank transfer (automatic)</td>\n",
       "      <td>42.299999</td>\n",
       "      <td>1840.750000</td>\n",
       "      <td>False</td>\n",
       "    </tr>\n",
       "    <tr>\n",
       "      <th>4</th>\n",
       "      <td>9237-HQITU</td>\n",
       "      <td>Female</td>\n",
       "      <td>False</td>\n",
       "      <td>False</td>\n",
       "      <td>False</td>\n",
       "      <td>2</td>\n",
       "      <td>True</td>\n",
       "      <td>False</td>\n",
       "      <td>Fiber optic</td>\n",
       "      <td>False</td>\n",
       "      <td>...</td>\n",
       "      <td>False</td>\n",
       "      <td>False</td>\n",
       "      <td>False</td>\n",
       "      <td>False</td>\n",
       "      <td>Month-to-month</td>\n",
       "      <td>True</td>\n",
       "      <td>Electronic check</td>\n",
       "      <td>70.699997</td>\n",
       "      <td>151.649994</td>\n",
       "      <td>True</td>\n",
       "    </tr>\n",
       "  </tbody>\n",
       "</table>\n",
       "<p>5 rows × 21 columns</p>\n",
       "</div>"
      ],
      "text/plain": [
       "   customerID  gender  SeniorCitizen  Partner  Dependents  tenure  \\\n",
       "0  7590-VHVEG  Female          False     True       False       1   \n",
       "1  5575-GNVDE    Male          False    False       False      34   \n",
       "2  3668-QPYBK    Male          False    False       False       2   \n",
       "3  7795-CFOCW    Male          False    False       False      45   \n",
       "4  9237-HQITU  Female          False    False       False       2   \n",
       "\n",
       "   PhoneService MultipleLines InternetService OnlineSecurity  ...  \\\n",
       "0         False          None             DSL          False  ...   \n",
       "1          True         False             DSL           True  ...   \n",
       "2          True         False             DSL           True  ...   \n",
       "3         False          None             DSL           True  ...   \n",
       "4          True         False     Fiber optic          False  ...   \n",
       "\n",
       "  DeviceProtection TechSupport StreamingTV StreamingMovies        Contract  \\\n",
       "0            False       False       False           False  Month-to-month   \n",
       "1             True       False       False           False        One year   \n",
       "2            False       False       False           False  Month-to-month   \n",
       "3             True        True       False           False        One year   \n",
       "4            False       False       False           False  Month-to-month   \n",
       "\n",
       "  PaperlessBilling              PaymentMethod MonthlyCharges  TotalCharges  \\\n",
       "0             True           Electronic check      29.850000     29.850000   \n",
       "1            False               Mailed check      56.950001   1889.500000   \n",
       "2             True               Mailed check      53.849998    108.150002   \n",
       "3            False  Bank transfer (automatic)      42.299999   1840.750000   \n",
       "4             True           Electronic check      70.699997    151.649994   \n",
       "\n",
       "   Churn  \n",
       "0  False  \n",
       "1  False  \n",
       "2   True  \n",
       "3  False  \n",
       "4   True  \n",
       "\n",
       "[5 rows x 21 columns]"
      ]
     },
     "execution_count": 218,
     "metadata": {},
     "output_type": "execute_result"
    }
   ],
   "source": [
    "First_Churn.head()"
   ]
  },
  {
   "cell_type": "code",
   "execution_count": 219,
   "metadata": {},
   "outputs": [
    {
     "name": "stdout",
     "output_type": "stream",
     "text": [
      "<class 'pandas.core.frame.DataFrame'>\n",
      "RangeIndex: 3000 entries, 0 to 2999\n",
      "Data columns (total 21 columns):\n",
      " #   Column            Non-Null Count  Dtype  \n",
      "---  ------            --------------  -----  \n",
      " 0   customerID        3000 non-null   object \n",
      " 1   gender            3000 non-null   object \n",
      " 2   SeniorCitizen     3000 non-null   bool   \n",
      " 3   Partner           3000 non-null   bool   \n",
      " 4   Dependents        3000 non-null   bool   \n",
      " 5   tenure            3000 non-null   int64  \n",
      " 6   PhoneService      3000 non-null   bool   \n",
      " 7   MultipleLines     2731 non-null   object \n",
      " 8   InternetService   3000 non-null   object \n",
      " 9   OnlineSecurity    2349 non-null   object \n",
      " 10  OnlineBackup      2349 non-null   object \n",
      " 11  DeviceProtection  2349 non-null   object \n",
      " 12  TechSupport       2349 non-null   object \n",
      " 13  StreamingTV       2349 non-null   object \n",
      " 14  StreamingMovies   2349 non-null   object \n",
      " 15  Contract          3000 non-null   object \n",
      " 16  PaperlessBilling  3000 non-null   bool   \n",
      " 17  PaymentMethod     3000 non-null   object \n",
      " 18  MonthlyCharges    3000 non-null   float64\n",
      " 19  TotalCharges      2995 non-null   float64\n",
      " 20  Churn             2999 non-null   object \n",
      "dtypes: bool(5), float64(2), int64(1), object(13)\n",
      "memory usage: 389.8+ KB\n"
     ]
    }
   ],
   "source": [
    "First_Churn.info()"
   ]
  },
  {
   "cell_type": "code",
   "execution_count": 220,
   "metadata": {},
   "outputs": [
    {
     "data": {
      "text/html": [
       "<div>\n",
       "<style scoped>\n",
       "    .dataframe tbody tr th:only-of-type {\n",
       "        vertical-align: middle;\n",
       "    }\n",
       "\n",
       "    .dataframe tbody tr th {\n",
       "        vertical-align: top;\n",
       "    }\n",
       "\n",
       "    .dataframe thead th {\n",
       "        text-align: right;\n",
       "    }\n",
       "</style>\n",
       "<table border=\"1\" class=\"dataframe\">\n",
       "  <thead>\n",
       "    <tr style=\"text-align: right;\">\n",
       "      <th></th>\n",
       "      <th>customerID</th>\n",
       "      <th>gender</th>\n",
       "      <th>SeniorCitizen</th>\n",
       "      <th>Partner</th>\n",
       "      <th>Dependents</th>\n",
       "      <th>tenure</th>\n",
       "      <th>PhoneService</th>\n",
       "      <th>MultipleLines</th>\n",
       "      <th>InternetService</th>\n",
       "      <th>OnlineSecurity</th>\n",
       "      <th>...</th>\n",
       "      <th>DeviceProtection</th>\n",
       "      <th>TechSupport</th>\n",
       "      <th>StreamingTV</th>\n",
       "      <th>StreamingMovies</th>\n",
       "      <th>Contract</th>\n",
       "      <th>PaperlessBilling</th>\n",
       "      <th>PaymentMethod</th>\n",
       "      <th>MonthlyCharges</th>\n",
       "      <th>TotalCharges</th>\n",
       "      <th>Churn</th>\n",
       "    </tr>\n",
       "  </thead>\n",
       "  <tbody>\n",
       "    <tr>\n",
       "      <th>0</th>\n",
       "      <td>5600-PDUJF</td>\n",
       "      <td>Male</td>\n",
       "      <td>0</td>\n",
       "      <td>No</td>\n",
       "      <td>No</td>\n",
       "      <td>6</td>\n",
       "      <td>Yes</td>\n",
       "      <td>No</td>\n",
       "      <td>DSL</td>\n",
       "      <td>No</td>\n",
       "      <td>...</td>\n",
       "      <td>No</td>\n",
       "      <td>Yes</td>\n",
       "      <td>No</td>\n",
       "      <td>No</td>\n",
       "      <td>Month-to-month</td>\n",
       "      <td>Yes</td>\n",
       "      <td>Credit card (automatic)</td>\n",
       "      <td>49.50</td>\n",
       "      <td>312.7</td>\n",
       "      <td>No</td>\n",
       "    </tr>\n",
       "    <tr>\n",
       "      <th>1</th>\n",
       "      <td>8292-TYSPY</td>\n",
       "      <td>Male</td>\n",
       "      <td>0</td>\n",
       "      <td>No</td>\n",
       "      <td>No</td>\n",
       "      <td>19</td>\n",
       "      <td>Yes</td>\n",
       "      <td>No</td>\n",
       "      <td>DSL</td>\n",
       "      <td>No</td>\n",
       "      <td>...</td>\n",
       "      <td>Yes</td>\n",
       "      <td>Yes</td>\n",
       "      <td>No</td>\n",
       "      <td>No</td>\n",
       "      <td>Month-to-month</td>\n",
       "      <td>Yes</td>\n",
       "      <td>Credit card (automatic)</td>\n",
       "      <td>55.00</td>\n",
       "      <td>1046.5</td>\n",
       "      <td>Yes</td>\n",
       "    </tr>\n",
       "    <tr>\n",
       "      <th>2</th>\n",
       "      <td>0567-XRHCU</td>\n",
       "      <td>Female</td>\n",
       "      <td>0</td>\n",
       "      <td>Yes</td>\n",
       "      <td>Yes</td>\n",
       "      <td>69</td>\n",
       "      <td>No</td>\n",
       "      <td>No phone service</td>\n",
       "      <td>DSL</td>\n",
       "      <td>Yes</td>\n",
       "      <td>...</td>\n",
       "      <td>Yes</td>\n",
       "      <td>No</td>\n",
       "      <td>No</td>\n",
       "      <td>Yes</td>\n",
       "      <td>Two year</td>\n",
       "      <td>Yes</td>\n",
       "      <td>Credit card (automatic)</td>\n",
       "      <td>43.95</td>\n",
       "      <td>2960.1</td>\n",
       "      <td>No</td>\n",
       "    </tr>\n",
       "    <tr>\n",
       "      <th>3</th>\n",
       "      <td>1867-BDVFH</td>\n",
       "      <td>Male</td>\n",
       "      <td>0</td>\n",
       "      <td>Yes</td>\n",
       "      <td>Yes</td>\n",
       "      <td>11</td>\n",
       "      <td>Yes</td>\n",
       "      <td>Yes</td>\n",
       "      <td>Fiber optic</td>\n",
       "      <td>No</td>\n",
       "      <td>...</td>\n",
       "      <td>No</td>\n",
       "      <td>No</td>\n",
       "      <td>No</td>\n",
       "      <td>No</td>\n",
       "      <td>Month-to-month</td>\n",
       "      <td>Yes</td>\n",
       "      <td>Electronic check</td>\n",
       "      <td>74.35</td>\n",
       "      <td>834.2</td>\n",
       "      <td>Yes</td>\n",
       "    </tr>\n",
       "    <tr>\n",
       "      <th>4</th>\n",
       "      <td>2067-QYTCF</td>\n",
       "      <td>Female</td>\n",
       "      <td>0</td>\n",
       "      <td>Yes</td>\n",
       "      <td>No</td>\n",
       "      <td>64</td>\n",
       "      <td>Yes</td>\n",
       "      <td>Yes</td>\n",
       "      <td>Fiber optic</td>\n",
       "      <td>No</td>\n",
       "      <td>...</td>\n",
       "      <td>Yes</td>\n",
       "      <td>Yes</td>\n",
       "      <td>Yes</td>\n",
       "      <td>Yes</td>\n",
       "      <td>Month-to-month</td>\n",
       "      <td>Yes</td>\n",
       "      <td>Electronic check</td>\n",
       "      <td>111.15</td>\n",
       "      <td>6953.4</td>\n",
       "      <td>No</td>\n",
       "    </tr>\n",
       "  </tbody>\n",
       "</table>\n",
       "<p>5 rows × 21 columns</p>\n",
       "</div>"
      ],
      "text/plain": [
       "   customerID  gender  SeniorCitizen Partner Dependents  tenure PhoneService  \\\n",
       "0  5600-PDUJF    Male              0      No         No       6          Yes   \n",
       "1  8292-TYSPY    Male              0      No         No      19          Yes   \n",
       "2  0567-XRHCU  Female              0     Yes        Yes      69           No   \n",
       "3  1867-BDVFH    Male              0     Yes        Yes      11          Yes   \n",
       "4  2067-QYTCF  Female              0     Yes         No      64          Yes   \n",
       "\n",
       "      MultipleLines InternetService OnlineSecurity  ... DeviceProtection  \\\n",
       "0                No             DSL             No  ...               No   \n",
       "1                No             DSL             No  ...              Yes   \n",
       "2  No phone service             DSL            Yes  ...              Yes   \n",
       "3               Yes     Fiber optic             No  ...               No   \n",
       "4               Yes     Fiber optic             No  ...              Yes   \n",
       "\n",
       "  TechSupport StreamingTV StreamingMovies        Contract PaperlessBilling  \\\n",
       "0         Yes          No              No  Month-to-month              Yes   \n",
       "1         Yes          No              No  Month-to-month              Yes   \n",
       "2          No          No             Yes        Two year              Yes   \n",
       "3          No          No              No  Month-to-month              Yes   \n",
       "4         Yes         Yes             Yes  Month-to-month              Yes   \n",
       "\n",
       "             PaymentMethod MonthlyCharges  TotalCharges Churn  \n",
       "0  Credit card (automatic)          49.50         312.7    No  \n",
       "1  Credit card (automatic)          55.00        1046.5   Yes  \n",
       "2  Credit card (automatic)          43.95        2960.1    No  \n",
       "3         Electronic check          74.35         834.2   Yes  \n",
       "4         Electronic check         111.15        6953.4    No  \n",
       "\n",
       "[5 rows x 21 columns]"
      ]
     },
     "execution_count": 220,
     "metadata": {},
     "output_type": "execute_result"
    }
   ],
   "source": [
    "data_3.head()"
   ]
  },
  {
   "cell_type": "code",
   "execution_count": 221,
   "metadata": {},
   "outputs": [
    {
     "name": "stdout",
     "output_type": "stream",
     "text": [
      "<class 'pandas.core.frame.DataFrame'>\n",
      "RangeIndex: 2043 entries, 0 to 2042\n",
      "Data columns (total 21 columns):\n",
      " #   Column            Non-Null Count  Dtype  \n",
      "---  ------            --------------  -----  \n",
      " 0   customerID        2043 non-null   object \n",
      " 1   gender            2043 non-null   object \n",
      " 2   SeniorCitizen     2043 non-null   int64  \n",
      " 3   Partner           2043 non-null   object \n",
      " 4   Dependents        2043 non-null   object \n",
      " 5   tenure            2043 non-null   int64  \n",
      " 6   PhoneService      2043 non-null   object \n",
      " 7   MultipleLines     2043 non-null   object \n",
      " 8   InternetService   2043 non-null   object \n",
      " 9   OnlineSecurity    2043 non-null   object \n",
      " 10  OnlineBackup      2043 non-null   object \n",
      " 11  DeviceProtection  2043 non-null   object \n",
      " 12  TechSupport       2043 non-null   object \n",
      " 13  StreamingTV       2043 non-null   object \n",
      " 14  StreamingMovies   2043 non-null   object \n",
      " 15  Contract          2043 non-null   object \n",
      " 16  PaperlessBilling  2043 non-null   object \n",
      " 17  PaymentMethod     2043 non-null   object \n",
      " 18  MonthlyCharges    2043 non-null   float64\n",
      " 19  TotalCharges      2043 non-null   object \n",
      " 20  Churn             2043 non-null   object \n",
      "dtypes: float64(1), int64(2), object(18)\n",
      "memory usage: 335.3+ KB\n"
     ]
    }
   ],
   "source": [
    "data_3.info()"
   ]
  },
  {
   "cell_type": "markdown",
   "metadata": {},
   "source": [
    "# Step 2: Data Cleaning \n",
    "\n",
    "### List of things to do\n",
    "\n",
    "- `Convert Some Columns Representations to Boolean`\n",
    "- `Missing Value`\n"
   ]
  },
  {
   "cell_type": "code",
   "execution_count": 222,
   "metadata": {},
   "outputs": [],
   "source": [
    "# Convert a column to a numeric type\n",
    "data_3['TotalCharges'] = pd.to_numeric(data_3['TotalCharges'], errors='coerce', downcast= 'float')\n"
   ]
  },
  {
   "cell_type": "code",
   "execution_count": 223,
   "metadata": {},
   "outputs": [],
   "source": [
    "# List of columns to be converted to boolean \n",
    "boolean_columns_first_data = ['Partner', 'OnlineSecurity', 'OnlineBackup', 'DeviceProtection', 'MultipleLines',\n",
    "                               'Dependents', 'PhoneService', 'TechSupport', 'StreamingMovies', 'StreamingTV', 'PaperlessBilling']\n",
    "\n",
    "# Function to convert \"Yes\", \"No\", to True and False\n",
    "def map_yes_no_to_boolean(value):\n",
    "    return value.lower() == 'yes'\n",
    "\n",
    "# Iterate through the list and convert corresponding columns in data_3 to boolean type\n",
    "for column in boolean_columns_first_data:\n",
    "    data_3[column] = data_3[column].map(map_yes_no_to_boolean)\n"
   ]
  },
  {
   "cell_type": "markdown",
   "metadata": {},
   "source": [
    "We have a column with integer values 0 and 1, Yes and No want to convert them to boolean values (`False` and `True`), you can use the `astype` \n",
    "\n"
   ]
  },
  {
   "cell_type": "code",
   "execution_count": 224,
   "metadata": {},
   "outputs": [],
   "source": [
    "# We converted the yes&no to True and Yes \n",
    "\n",
    "def map_yes_no_to_bool(value):\n",
    "    return value.lower()=='yes'\n",
    "\n",
    "data_3['Churn'] = data_3['Churn'].map(map_yes_no_to_bool)"
   ]
  },
  {
   "cell_type": "code",
   "execution_count": 225,
   "metadata": {},
   "outputs": [],
   "source": [
    "#Senior column' is the column I  want to convert\n",
    "\n",
    "data_3['SeniorCitizen'] = data_3['SeniorCitizen'].astype(bool)"
   ]
  },
  {
   "cell_type": "markdown",
   "metadata": {},
   "source": [
    "##SQL Data set "
   ]
  },
  {
   "cell_type": "code",
   "execution_count": 226,
   "metadata": {},
   "outputs": [
    {
     "name": "stdout",
     "output_type": "stream",
     "text": [
      "<class 'pandas.core.frame.DataFrame'>\n",
      "RangeIndex: 3000 entries, 0 to 2999\n",
      "Data columns (total 21 columns):\n",
      " #   Column            Non-Null Count  Dtype  \n",
      "---  ------            --------------  -----  \n",
      " 0   customerID        3000 non-null   object \n",
      " 1   gender            3000 non-null   object \n",
      " 2   SeniorCitizen     3000 non-null   bool   \n",
      " 3   Partner           3000 non-null   bool   \n",
      " 4   Dependents        3000 non-null   bool   \n",
      " 5   tenure            3000 non-null   int64  \n",
      " 6   PhoneService      3000 non-null   bool   \n",
      " 7   MultipleLines     2731 non-null   object \n",
      " 8   InternetService   3000 non-null   object \n",
      " 9   OnlineSecurity    2349 non-null   object \n",
      " 10  OnlineBackup      2349 non-null   object \n",
      " 11  DeviceProtection  2349 non-null   object \n",
      " 12  TechSupport       2349 non-null   object \n",
      " 13  StreamingTV       2349 non-null   object \n",
      " 14  StreamingMovies   2349 non-null   object \n",
      " 15  Contract          3000 non-null   object \n",
      " 16  PaperlessBilling  3000 non-null   bool   \n",
      " 17  PaymentMethod     3000 non-null   object \n",
      " 18  MonthlyCharges    3000 non-null   float64\n",
      " 19  TotalCharges      2995 non-null   float64\n",
      " 20  Churn             2999 non-null   object \n",
      "dtypes: bool(5), float64(2), int64(1), object(13)\n",
      "memory usage: 389.8+ KB\n"
     ]
    }
   ],
   "source": [
    "# Check for missing values in each column\n",
    "First_Churn.info()"
   ]
  },
  {
   "cell_type": "code",
   "execution_count": 227,
   "metadata": {},
   "outputs": [],
   "source": [
    "# List of columns to be converted to boolean \n",
    "boolean_columns_second_data = ['OnlineSecurity', 'OnlineBackup', 'DeviceProtection', 'MultipleLines', \n",
    "                               'TechSupport', 'StreamingMovies', 'StreamingTV']\n",
    "\n",
    "for column in boolean_columns_second_data:\n",
    "    First_Churn[column] = First_Churn[column].astype(bool)"
   ]
  },
  {
   "cell_type": "code",
   "execution_count": 228,
   "metadata": {},
   "outputs": [],
   "source": [
    "# Convert the Churn into a boolean Column\n",
    "\n",
    "First_Churn['Churn'] = First_Churn['Churn'].astype(bool)"
   ]
  },
  {
   "cell_type": "code",
   "execution_count": 229,
   "metadata": {},
   "outputs": [
    {
     "name": "stdout",
     "output_type": "stream",
     "text": [
      "customerID          0\n",
      "gender              0\n",
      "SeniorCitizen       0\n",
      "Partner             0\n",
      "Dependents          0\n",
      "tenure              0\n",
      "PhoneService        0\n",
      "MultipleLines       0\n",
      "InternetService     0\n",
      "OnlineSecurity      0\n",
      "OnlineBackup        0\n",
      "DeviceProtection    0\n",
      "TechSupport         0\n",
      "StreamingTV         0\n",
      "StreamingMovies     0\n",
      "Contract            0\n",
      "PaperlessBilling    0\n",
      "PaymentMethod       0\n",
      "MonthlyCharges      0\n",
      "TotalCharges        5\n",
      "Churn               0\n",
      "dtype: int64\n"
     ]
    }
   ],
   "source": [
    "# Check for missing values in each column\n",
    "print(First_Churn.isnull().sum())"
   ]
  },
  {
   "cell_type": "code",
   "execution_count": 230,
   "metadata": {},
   "outputs": [
    {
     "name": "stdout",
     "output_type": "stream",
     "text": [
      "customerID          0\n",
      "gender              0\n",
      "SeniorCitizen       0\n",
      "Partner             0\n",
      "Dependents          0\n",
      "tenure              0\n",
      "PhoneService        0\n",
      "MultipleLines       0\n",
      "InternetService     0\n",
      "OnlineSecurity      0\n",
      "OnlineBackup        0\n",
      "DeviceProtection    0\n",
      "TechSupport         0\n",
      "StreamingTV         0\n",
      "StreamingMovies     0\n",
      "Contract            0\n",
      "PaperlessBilling    0\n",
      "PaymentMethod       0\n",
      "MonthlyCharges      0\n",
      "TotalCharges        3\n",
      "Churn               0\n",
      "dtype: int64\n"
     ]
    }
   ],
   "source": [
    "# Check for missing values in each column\n",
    "print(data_3.isnull().sum())"
   ]
  },
  {
   "cell_type": "code",
   "execution_count": 231,
   "metadata": {},
   "outputs": [
    {
     "name": "stdout",
     "output_type": "stream",
     "text": [
      "customerID 2043\n",
      "gender 2\n",
      "SeniorCitizen 2\n",
      "Partner 2\n",
      "Dependents 2\n",
      "tenure 73\n",
      "PhoneService 2\n",
      "MultipleLines 2\n",
      "InternetService 3\n",
      "OnlineSecurity 2\n",
      "OnlineBackup 2\n",
      "DeviceProtection 2\n",
      "TechSupport 2\n",
      "StreamingTV 2\n",
      "StreamingMovies 2\n",
      "Contract 3\n",
      "PaperlessBilling 2\n",
      "PaymentMethod 4\n",
      "MonthlyCharges 1029\n",
      "TotalCharges 1990\n",
      "Churn 2\n"
     ]
    }
   ],
   "source": [
    "for column in data_3:\n",
    "    print(column, data_3[column].nunique())"
   ]
  },
  {
   "cell_type": "code",
   "execution_count": 232,
   "metadata": {},
   "outputs": [
    {
     "data": {
      "text/html": [
       "<div>\n",
       "<style scoped>\n",
       "    .dataframe tbody tr th:only-of-type {\n",
       "        vertical-align: middle;\n",
       "    }\n",
       "\n",
       "    .dataframe tbody tr th {\n",
       "        vertical-align: top;\n",
       "    }\n",
       "\n",
       "    .dataframe thead th {\n",
       "        text-align: right;\n",
       "    }\n",
       "</style>\n",
       "<table border=\"1\" class=\"dataframe\">\n",
       "  <thead>\n",
       "    <tr style=\"text-align: right;\">\n",
       "      <th></th>\n",
       "      <th>customerID</th>\n",
       "      <th>gender</th>\n",
       "      <th>SeniorCitizen</th>\n",
       "      <th>Partner</th>\n",
       "      <th>Dependents</th>\n",
       "      <th>tenure</th>\n",
       "      <th>PhoneService</th>\n",
       "      <th>MultipleLines</th>\n",
       "      <th>InternetService</th>\n",
       "      <th>OnlineSecurity</th>\n",
       "      <th>...</th>\n",
       "      <th>DeviceProtection</th>\n",
       "      <th>TechSupport</th>\n",
       "      <th>StreamingTV</th>\n",
       "      <th>StreamingMovies</th>\n",
       "      <th>Contract</th>\n",
       "      <th>PaperlessBilling</th>\n",
       "      <th>PaymentMethod</th>\n",
       "      <th>MonthlyCharges</th>\n",
       "      <th>TotalCharges</th>\n",
       "      <th>Churn</th>\n",
       "    </tr>\n",
       "  </thead>\n",
       "  <tbody>\n",
       "    <tr>\n",
       "      <th>0</th>\n",
       "      <td>5600-PDUJF</td>\n",
       "      <td>Male</td>\n",
       "      <td>False</td>\n",
       "      <td>False</td>\n",
       "      <td>False</td>\n",
       "      <td>6</td>\n",
       "      <td>True</td>\n",
       "      <td>False</td>\n",
       "      <td>DSL</td>\n",
       "      <td>False</td>\n",
       "      <td>...</td>\n",
       "      <td>False</td>\n",
       "      <td>True</td>\n",
       "      <td>False</td>\n",
       "      <td>False</td>\n",
       "      <td>Month-to-month</td>\n",
       "      <td>True</td>\n",
       "      <td>Credit card (automatic)</td>\n",
       "      <td>49.50</td>\n",
       "      <td>312.700012</td>\n",
       "      <td>False</td>\n",
       "    </tr>\n",
       "    <tr>\n",
       "      <th>1</th>\n",
       "      <td>8292-TYSPY</td>\n",
       "      <td>Male</td>\n",
       "      <td>False</td>\n",
       "      <td>False</td>\n",
       "      <td>False</td>\n",
       "      <td>19</td>\n",
       "      <td>True</td>\n",
       "      <td>False</td>\n",
       "      <td>DSL</td>\n",
       "      <td>False</td>\n",
       "      <td>...</td>\n",
       "      <td>True</td>\n",
       "      <td>True</td>\n",
       "      <td>False</td>\n",
       "      <td>False</td>\n",
       "      <td>Month-to-month</td>\n",
       "      <td>True</td>\n",
       "      <td>Credit card (automatic)</td>\n",
       "      <td>55.00</td>\n",
       "      <td>1046.500000</td>\n",
       "      <td>True</td>\n",
       "    </tr>\n",
       "    <tr>\n",
       "      <th>2</th>\n",
       "      <td>0567-XRHCU</td>\n",
       "      <td>Female</td>\n",
       "      <td>False</td>\n",
       "      <td>True</td>\n",
       "      <td>True</td>\n",
       "      <td>69</td>\n",
       "      <td>False</td>\n",
       "      <td>False</td>\n",
       "      <td>DSL</td>\n",
       "      <td>True</td>\n",
       "      <td>...</td>\n",
       "      <td>True</td>\n",
       "      <td>False</td>\n",
       "      <td>False</td>\n",
       "      <td>True</td>\n",
       "      <td>Two year</td>\n",
       "      <td>True</td>\n",
       "      <td>Credit card (automatic)</td>\n",
       "      <td>43.95</td>\n",
       "      <td>2960.100098</td>\n",
       "      <td>False</td>\n",
       "    </tr>\n",
       "    <tr>\n",
       "      <th>3</th>\n",
       "      <td>1867-BDVFH</td>\n",
       "      <td>Male</td>\n",
       "      <td>False</td>\n",
       "      <td>True</td>\n",
       "      <td>True</td>\n",
       "      <td>11</td>\n",
       "      <td>True</td>\n",
       "      <td>True</td>\n",
       "      <td>Fiber optic</td>\n",
       "      <td>False</td>\n",
       "      <td>...</td>\n",
       "      <td>False</td>\n",
       "      <td>False</td>\n",
       "      <td>False</td>\n",
       "      <td>False</td>\n",
       "      <td>Month-to-month</td>\n",
       "      <td>True</td>\n",
       "      <td>Electronic check</td>\n",
       "      <td>74.35</td>\n",
       "      <td>834.200012</td>\n",
       "      <td>True</td>\n",
       "    </tr>\n",
       "    <tr>\n",
       "      <th>4</th>\n",
       "      <td>2067-QYTCF</td>\n",
       "      <td>Female</td>\n",
       "      <td>False</td>\n",
       "      <td>True</td>\n",
       "      <td>False</td>\n",
       "      <td>64</td>\n",
       "      <td>True</td>\n",
       "      <td>True</td>\n",
       "      <td>Fiber optic</td>\n",
       "      <td>False</td>\n",
       "      <td>...</td>\n",
       "      <td>True</td>\n",
       "      <td>True</td>\n",
       "      <td>True</td>\n",
       "      <td>True</td>\n",
       "      <td>Month-to-month</td>\n",
       "      <td>True</td>\n",
       "      <td>Electronic check</td>\n",
       "      <td>111.15</td>\n",
       "      <td>6953.399902</td>\n",
       "      <td>False</td>\n",
       "    </tr>\n",
       "  </tbody>\n",
       "</table>\n",
       "<p>5 rows × 21 columns</p>\n",
       "</div>"
      ],
      "text/plain": [
       "   customerID  gender  SeniorCitizen  Partner  Dependents  tenure  \\\n",
       "0  5600-PDUJF    Male          False    False       False       6   \n",
       "1  8292-TYSPY    Male          False    False       False      19   \n",
       "2  0567-XRHCU  Female          False     True        True      69   \n",
       "3  1867-BDVFH    Male          False     True        True      11   \n",
       "4  2067-QYTCF  Female          False     True       False      64   \n",
       "\n",
       "   PhoneService  MultipleLines InternetService  OnlineSecurity  ...  \\\n",
       "0          True          False             DSL           False  ...   \n",
       "1          True          False             DSL           False  ...   \n",
       "2         False          False             DSL            True  ...   \n",
       "3          True           True     Fiber optic           False  ...   \n",
       "4          True           True     Fiber optic           False  ...   \n",
       "\n",
       "   DeviceProtection  TechSupport  StreamingTV  StreamingMovies  \\\n",
       "0             False         True        False            False   \n",
       "1              True         True        False            False   \n",
       "2              True        False        False             True   \n",
       "3             False        False        False            False   \n",
       "4              True         True         True             True   \n",
       "\n",
       "         Contract PaperlessBilling            PaymentMethod MonthlyCharges  \\\n",
       "0  Month-to-month             True  Credit card (automatic)          49.50   \n",
       "1  Month-to-month             True  Credit card (automatic)          55.00   \n",
       "2        Two year             True  Credit card (automatic)          43.95   \n",
       "3  Month-to-month             True         Electronic check          74.35   \n",
       "4  Month-to-month             True         Electronic check         111.15   \n",
       "\n",
       "   TotalCharges  Churn  \n",
       "0    312.700012  False  \n",
       "1   1046.500000   True  \n",
       "2   2960.100098  False  \n",
       "3    834.200012   True  \n",
       "4   6953.399902  False  \n",
       "\n",
       "[5 rows x 21 columns]"
      ]
     },
     "execution_count": 232,
     "metadata": {},
     "output_type": "execute_result"
    }
   ],
   "source": [
    "data_3.head()"
   ]
  },
  {
   "cell_type": "code",
   "execution_count": 233,
   "metadata": {},
   "outputs": [
    {
     "data": {
      "text/plain": [
       "array([False,  True])"
      ]
     },
     "execution_count": 233,
     "metadata": {},
     "output_type": "execute_result"
    }
   ],
   "source": [
    "First_Churn['Churn'].unique()"
   ]
  },
  {
   "cell_type": "code",
   "execution_count": 234,
   "metadata": {},
   "outputs": [
    {
     "name": "stdout",
     "output_type": "stream",
     "text": [
      "<class 'pandas.core.frame.DataFrame'>\n",
      "RangeIndex: 3000 entries, 0 to 2999\n",
      "Data columns (total 21 columns):\n",
      " #   Column            Non-Null Count  Dtype  \n",
      "---  ------            --------------  -----  \n",
      " 0   customerID        3000 non-null   object \n",
      " 1   gender            3000 non-null   object \n",
      " 2   SeniorCitizen     3000 non-null   bool   \n",
      " 3   Partner           3000 non-null   bool   \n",
      " 4   Dependents        3000 non-null   bool   \n",
      " 5   tenure            3000 non-null   int64  \n",
      " 6   PhoneService      3000 non-null   bool   \n",
      " 7   MultipleLines     3000 non-null   bool   \n",
      " 8   InternetService   3000 non-null   object \n",
      " 9   OnlineSecurity    3000 non-null   bool   \n",
      " 10  OnlineBackup      3000 non-null   bool   \n",
      " 11  DeviceProtection  3000 non-null   bool   \n",
      " 12  TechSupport       3000 non-null   bool   \n",
      " 13  StreamingTV       3000 non-null   bool   \n",
      " 14  StreamingMovies   3000 non-null   bool   \n",
      " 15  Contract          3000 non-null   object \n",
      " 16  PaperlessBilling  3000 non-null   bool   \n",
      " 17  PaymentMethod     3000 non-null   object \n",
      " 18  MonthlyCharges    3000 non-null   float64\n",
      " 19  TotalCharges      2995 non-null   float64\n",
      " 20  Churn             3000 non-null   bool   \n",
      "dtypes: bool(13), float64(2), int64(1), object(5)\n",
      "memory usage: 225.7+ KB\n"
     ]
    }
   ],
   "source": [
    "First_Churn.info()"
   ]
  },
  {
   "cell_type": "markdown",
   "metadata": {},
   "source": [
    "## Concat the SQL and CSV data\n"
   ]
  },
  {
   "cell_type": "code",
   "execution_count": 235,
   "metadata": {},
   "outputs": [],
   "source": [
    "#Merging the SQL and CSV dataset\n",
    "\n",
    "vodafone_df= pd.concat([First_Churn,data_3])\n",
    "\n",
    "vodafone_df.to_csv('vodafone_customer_churn.csv')"
   ]
  },
  {
   "cell_type": "code",
   "execution_count": 236,
   "metadata": {},
   "outputs": [],
   "source": [
    "voda_df= pd.read_csv('vodafone_customer_churn.csv')"
   ]
  },
  {
   "cell_type": "markdown",
   "metadata": {},
   "source": [
    "`column_to_drop' is the Unnamed & CustomerID`"
   ]
  },
  {
   "cell_type": "code",
   "execution_count": 237,
   "metadata": {},
   "outputs": [],
   "source": [
    "\n",
    "voda_df = voda_df.drop(columns=['Unnamed: 0'])\n",
    "\n",
    "voda_df = voda_df.drop(columns=['customerID'])\n"
   ]
  },
  {
   "cell_type": "code",
   "execution_count": 238,
   "metadata": {},
   "outputs": [
    {
     "name": "stdout",
     "output_type": "stream",
     "text": [
      "<class 'pandas.core.frame.DataFrame'>\n",
      "RangeIndex: 5043 entries, 0 to 5042\n",
      "Data columns (total 20 columns):\n",
      " #   Column            Non-Null Count  Dtype  \n",
      "---  ------            --------------  -----  \n",
      " 0   gender            5043 non-null   object \n",
      " 1   SeniorCitizen     5043 non-null   bool   \n",
      " 2   Partner           5043 non-null   bool   \n",
      " 3   Dependents        5043 non-null   bool   \n",
      " 4   tenure            5043 non-null   int64  \n",
      " 5   PhoneService      5043 non-null   bool   \n",
      " 6   MultipleLines     5043 non-null   bool   \n",
      " 7   InternetService   5043 non-null   object \n",
      " 8   OnlineSecurity    5043 non-null   bool   \n",
      " 9   OnlineBackup      5043 non-null   bool   \n",
      " 10  DeviceProtection  5043 non-null   bool   \n",
      " 11  TechSupport       5043 non-null   bool   \n",
      " 12  StreamingTV       5043 non-null   bool   \n",
      " 13  StreamingMovies   5043 non-null   bool   \n",
      " 14  Contract          5043 non-null   object \n",
      " 15  PaperlessBilling  5043 non-null   bool   \n",
      " 16  PaymentMethod     5043 non-null   object \n",
      " 17  MonthlyCharges    5043 non-null   float64\n",
      " 18  TotalCharges      5035 non-null   float64\n",
      " 19  Churn             5043 non-null   bool   \n",
      "dtypes: bool(13), float64(2), int64(1), object(4)\n",
      "memory usage: 339.9+ KB\n"
     ]
    }
   ],
   "source": [
    "voda_df.info()"
   ]
  },
  {
   "cell_type": "markdown",
   "metadata": {},
   "source": [
    "## Data Exploration:"
   ]
  },
  {
   "cell_type": "markdown",
   "metadata": {},
   "source": [
    "\n",
    "Use descriptive statistics and visualizations to understand the distribution of variables, identify outliers, and get a sense of the data."
   ]
  },
  {
   "cell_type": "code",
   "execution_count": 239,
   "metadata": {},
   "outputs": [
    {
     "data": {
      "text/plain": [
       "<Axes: >"
      ]
     },
     "execution_count": 239,
     "metadata": {},
     "output_type": "execute_result"
    },
    {
     "data": {
      "image/png": "[encoded data removed]",
      "text/plain": [
       "<Figure size 640x480 with 1 Axes>"
      ]
     },
     "metadata": {},
     "output_type": "display_data"
    }
   ],
   "source": [
    "# Boxplot Visualization\n",
    "\n",
    "sns.boxplot(data=voda_df, orient='h')"
   ]
  },
  {
   "cell_type": "markdown",
   "metadata": {},
   "source": [
    " Count Plots for Categorical Columns"
   ]
  },
  {
   "cell_type": "code",
   "execution_count": 240,
   "metadata": {},
   "outputs": [
    {
     "data": {
      "image/png": "[encoded data removed]",
      "text/plain": [
       "<Figure size 1200x800 with 4 Axes>"
      ]
     },
     "metadata": {},
     "output_type": "display_data"
    }
   ],
   "source": [
    "# List of columns containing categorical values\n",
    "categorical_columns = ['gender', 'InternetService', 'Contract', 'PaymentMethod']\n",
    "\n",
    "# Set up subplots for better visibility with adjusted size\n",
    "fig, axes = plt.subplots(nrows=2, ncols=2, figsize=(12, 8))\n",
    "fig.subplots_adjust(hspace=0.5, wspace=0.4)  # Adjust vertical and horizontal spacing\n",
    "\n",
    "# Flatten the 2D axes array to make it easier to iterate\n",
    "axes = axes.flatten()\n",
    "\n",
    "# Loop through each categorical column\n",
    "for i, column in enumerate(categorical_columns):\n",
    "    # Create a count plot using Seaborn\n",
    "    sns.countplot(data=voda_df, x=column, ax=axes[i])\n",
    "\n",
    "    # Add a title to the count plot with the name of the column\n",
    "    axes[i].set_title(column)\n",
    "\n",
    "# Hide empty subplots\n",
    "for i in range(len(categorical_columns), len(axes)):\n",
    "    axes[i].axis('off')\n",
    "\n",
    "# Show the count plots\n",
    "plt.show()\n"
   ]
  },
  {
   "cell_type": "markdown",
   "metadata": {},
   "source": [
    "Histograms for Numerical Columns"
   ]
  },
  {
   "cell_type": "code",
   "execution_count": 241,
   "metadata": {},
   "outputs": [
    {
     "data": {
      "image/png": "[encoded data removed]",
      "text/plain": [
       "<Figure size 1500x500 with 3 Axes>"
      ]
     },
     "metadata": {},
     "output_type": "display_data"
    }
   ],
   "source": [
    "\n",
    "numerical_columns = ['tenure', 'MonthlyCharges', 'TotalCharges']\n",
    "\n",
    "# Set up subplots for better visibility\n",
    "fig, axes = plt.subplots(nrows=1, ncols=len(numerical_columns), figsize=(15, 5))\n",
    "fig.subplots_adjust(wspace=0.5)  # Adjust horizontal spacing\n",
    "\n",
    "# Loop through each numerical column\n",
    "for i, column in enumerate(numerical_columns):\n",
    "    # Create a histogram using Seaborn\n",
    "    sns.histplot(data=voda_df, x=column, kde=True, ax=axes[i])\n",
    "\n",
    "    # Add a title to the histogram with the name of the column\n",
    "    axes[i].set_title(column)\n",
    "\n",
    "# Show the subplots for numerical histograms\n",
    "plt.show()\n"
   ]
  },
  {
   "cell_type": "code",
   "execution_count": 242,
   "metadata": {},
   "outputs": [
    {
     "data": {
      "image/png": "[encoded data removed]",
      "text/plain": [
       "<Figure size 640x480 with 1 Axes>"
      ]
     },
     "metadata": {},
     "output_type": "display_data"
    }
   ],
   "source": [
    "\n",
    "# Create a count plot for the 'Churn' column\n",
    "sns.countplot(data=voda_df, x='Churn')\n",
    "\n",
    "# Add count annotations to each bar\n",
    "for p in plt.gca().patches:\n",
    "    plt.gca().annotate(f'{p.get_height()}', (p.get_x() + p.get_width() / 2., p.get_height()),\n",
    "                       ha='center', va='bottom', fontsize=10)\n",
    "\n",
    "# Add a title to the count plot\n",
    "plt.title('Churn')\n",
    "\n",
    "# Show the count plot\n",
    "plt.show()\n"
   ]
  },
  {
   "cell_type": "code",
   "execution_count": 243,
   "metadata": {},
   "outputs": [
    {
     "name": "stdout",
     "output_type": "stream",
     "text": [
      "                  tenure  MonthlyCharges  TotalCharges\n",
      "tenure          1.000000        0.240645      0.826264\n",
      "MonthlyCharges  0.240645        1.000000      0.647007\n",
      "TotalCharges    0.826264        0.647007      1.000000\n"
     ]
    },
    {
     "data": {
      "image/png": "[encoded data removed]",
      "text/plain": [
       "<Figure size 640x480 with 2 Axes>"
      ]
     },
     "metadata": {},
     "output_type": "display_data"
    }
   ],
   "source": [
    "numeric_columns = voda_df.select_dtypes(include=['number']).columns\n",
    "correlation_matrix = voda_df[numeric_columns].corr()\n",
    "\n",
    "# Display the correlation matrix\n",
    "print(correlation_matrix)\n",
    "sns.heatmap(correlation_matrix, annot=True, cmap='coolwarm', linewidths=.5)\n",
    "plt.show()"
   ]
  },
  {
   "cell_type": "markdown",
   "metadata": {},
   "source": [
    "## Answering the Analytical Questions"
   ]
  },
  {
   "cell_type": "markdown",
   "metadata": {},
   "source": [
    "1.Which payment method is the most popular?"
   ]
  },
  {
   "cell_type": "code",
   "execution_count": 244,
   "metadata": {},
   "outputs": [
    {
     "data": {
      "image/png": "[encoded data removed]",
      "text/plain": [
       "<Figure size 1000x600 with 1 Axes>"
      ]
     },
     "metadata": {},
     "output_type": "display_data"
    }
   ],
   "source": [
    "\n",
    "plt.figure(figsize=(10,6))\n",
    "sns.countplot(data=voda_df, x='PaymentMethod', palette=\"pastel\")\n",
    "plt.show()"
   ]
  },
  {
   "cell_type": "markdown",
   "metadata": {},
   "source": [
    "  2.Which internet service was purchased the most?"
   ]
  },
  {
   "cell_type": "code",
   "execution_count": 245,
   "metadata": {},
   "outputs": [
    {
     "data": {
      "image/png": "[encoded data removed]",
      "text/plain": [
       "<Figure size 600x400 with 1 Axes>"
      ]
     },
     "metadata": {},
     "output_type": "display_data"
    }
   ],
   "source": [
    "plt.figure(figsize=(6,4))\n",
    "sns.countplot(data=voda_df, x='InternetService', palette=\"muted\")\n",
    "plt.show()"
   ]
  },
  {
   "cell_type": "markdown",
   "metadata": {},
   "source": [
    "3.Which gender recorded the highest churn"
   ]
  },
  {
   "cell_type": "code",
   "execution_count": 246,
   "metadata": {},
   "outputs": [
    {
     "data": {
      "image/png": "[encoded data removed]",
      "text/plain": [
       "<Figure size 600x400 with 1 Axes>"
      ]
     },
     "metadata": {},
     "output_type": "display_data"
    }
   ],
   "source": [
    "plt.figure(figsize=(6,4))\n",
    "sns.countplot(data=voda_df, x='gender', hue=\"Churn\")\n",
    "plt.show()"
   ]
  },
  {
   "cell_type": "markdown",
   "metadata": {},
   "source": [
    "4. Which one of the contract types did the highest churn"
   ]
  },
  {
   "cell_type": "code",
   "execution_count": 247,
   "metadata": {},
   "outputs": [
    {
     "data": {
      "image/png": "[encoded data removed]",
      "text/plain": [
       "<Figure size 600x400 with 1 Axes>"
      ]
     },
     "metadata": {},
     "output_type": "display_data"
    }
   ],
   "source": [
    "plt.figure(figsize=(6,4))\n",
    "sns.countplot(data=voda_df, x='Contract', hue=\"Churn\")\n",
    "plt.show()"
   ]
  },
  {
   "cell_type": "markdown",
   "metadata": {},
   "source": [
    "5.Which age group did the highest churn\n"
   ]
  },
  {
   "cell_type": "code",
   "execution_count": 248,
   "metadata": {},
   "outputs": [
    {
     "data": {
      "image/png": "[encoded data removed]",
      "text/plain": [
       "<Figure size 600x400 with 1 Axes>"
      ]
     },
     "metadata": {},
     "output_type": "display_data"
    }
   ],
   "source": [
    "plt.figure(figsize=(6,4))\n",
    "sns.countplot(data=voda_df, x='SeniorCitizen', hue=\"Churn\")\n",
    "plt.show()"
   ]
  },
  {
   "cell_type": "markdown",
   "metadata": {},
   "source": [
    "## Insights\n",
    "\n",
    "`It can be seen from the graph that,non senior citizens(0) has the highest churn compared to senior citizens. however,over 80 % of senior citizens churned compared to about 40% of the non senior citizens that churned. we therefore conclude that senior citizens churned the most`"
   ]
  },
  {
   "cell_type": "markdown",
   "metadata": {},
   "source": [
    "## Hypothesis \n",
    "\n"
   ]
  },
  {
   "cell_type": "markdown",
   "metadata": {},
   "source": [
    " **Null Hypothesis**: Customers with high monthly charges do not have the tendency to churn\n",
    "\n",
    " **Alternate Hypothesis**:Customers with high monthly Charges have the tendency to churn"
   ]
  },
  {
   "cell_type": "code",
   "execution_count": 249,
   "metadata": {},
   "outputs": [
    {
     "data": {
      "image/png": "[encoded data removed]",
      "text/plain": [
       "<Figure size 1000x600 with 1 Axes>"
      ]
     },
     "metadata": {},
     "output_type": "display_data"
    }
   ],
   "source": [
    "plt.figure(figsize=(10, 6))\n",
    "ax = sns.barplot(data=voda_df, y='MonthlyCharges', hue=\"Churn\", palette=\"pastel\")\n",
    "\n",
    "# Add labels and title\n",
    "plt.title('Monthly Charges and Churn Analysis')\n",
    "plt.xlabel('Churn')\n",
    "plt.ylabel('Monthly Charges')\n",
    "\n",
    "# Add a legend\n",
    "handles, labels = ax.get_legend_handles_labels()\n",
    "plt.legend(handles, labels, title='Churn')\n",
    "\n",
    "plt.show()\n"
   ]
  },
  {
   "cell_type": "markdown",
   "metadata": {},
   "source": [
    "##  `Phase 3 - Data Preparation`\n",
    "\n",
    "Data Preparation also known as **data preprocessing**, is a crucial phase in the machine learning pipeline. It involves cleaning, transforming, and structuring raw data into a format that is suitable for analysis and model building. Data preparation aims to improve the quality of the data and enhance the performance of machine learning models. This phase lays the foundation for accurate and meaningful analysis and predictions.\n",
    "\n",
    "- **Train-test split**: Divide the data into training and testing sets for model evaluation.\n",
    "- **Clean and preprocess data: Handle missing values, outliers, and inconsistencies**.\n",
    "- **Data Transformation**:\n",
    "    - Standardization: Scale numerical features to have a mean of 0 and a standard deviation of 1.\n",
    "    - Normalization: Scale features to a specific range, typically 0 to 1.\n",
    "    - Log Transformation: Apply log functions to reduce skewness in data distributions.\n",
    "    - Encoding Categorical Variables: Convert categorical variables into numerical format (e.g., one-hot encoding, label encoding).\n",
    "- **Feature engineering**\n",
    "    - Create New Features: Generate new variables based on domain knowledge, interactions, or transformations and choose features that have the most predictive power and discard irrelevant ones.\n",
    "- **Address class imbalance (if applicable)**: Over-sample, under-sample, or use class weights to balance classes."
   ]
  },
  {
   "cell_type": "code",
   "execution_count": 250,
   "metadata": {},
   "outputs": [
    {
     "name": "stdout",
     "output_type": "stream",
     "text": [
      "Shape of X_train: (4034, 19)\n",
      "Shape of X_test: (1009, 19)\n",
      "Shape of y_train: (4034,)\n",
      "Shape of y_test: (1009,)\n"
     ]
    }
   ],
   "source": [
    "\n",
    "# Define features (X) and target variable (y)\n",
    "X = voda_df.drop('Churn', axis=1)  #'Churn' is the target variable\n",
    "y = voda_df['Churn']\n",
    "\n",
    "# Split the data into training and testing sets (80% training, 20% testing)\n",
    "X_train, X_test, y_train, y_test = train_test_split(X, y, test_size=0.2, random_state=42, stratify=y)\n",
    "\n",
    "# Display the shapes of the resulting sets\n",
    "print(\"Shape of X_train:\", X_train.shape)\n",
    "print(\"Shape of X_test:\", X_test.shape)\n",
    "print(\"Shape of y_train:\", y_train.shape)\n",
    "print(\"Shape of y_test:\", y_test.shape)\n"
   ]
  },
  {
   "cell_type": "markdown",
   "metadata": {},
   "source": [
    "### List of things done below\n",
    "\n",
    "- `Impute missing values with mean`\n",
    "- `Standardize numeric features`\n",
    "- `Power transform for skewness`\n",
    "- `Impute missing values with most frequent`\n",
    "- `One-hot encode categorical features`"
   ]
  },
  {
   "cell_type": "code",
   "execution_count": 251,
   "metadata": {},
   "outputs": [
    {
     "data": {
      "text/plain": [
       "Index(['gender', 'SeniorCitizen', 'Partner', 'Dependents', 'PhoneService',\n",
       "       'MultipleLines', 'InternetService', 'OnlineSecurity', 'OnlineBackup',\n",
       "       'DeviceProtection', 'TechSupport', 'StreamingTV', 'StreamingMovies',\n",
       "       'Contract', 'PaperlessBilling', 'PaymentMethod'],\n",
       "      dtype='object')"
      ]
     },
     "execution_count": 251,
     "metadata": {},
     "output_type": "execute_result"
    }
   ],
   "source": [
    "categorical_features = X.select_dtypes(include=['bool', 'object']).columns\n",
    "\n",
    "categorical_features"
   ]
  },
  {
   "cell_type": "code",
   "execution_count": 252,
   "metadata": {},
   "outputs": [
    {
     "data": {
      "text/plain": [
       "Index(['tenure', 'MonthlyCharges', 'TotalCharges'], dtype='object')"
      ]
     },
     "execution_count": 252,
     "metadata": {},
     "output_type": "execute_result"
    }
   ],
   "source": [
    "numeric_features = X.select_dtypes(include=['int64', 'float64']).columns\n",
    "\n",
    "numeric_features"
   ]
  },
  {
   "cell_type": "markdown",
   "metadata": {},
   "source": [
    "These pipelines are designed to handle both numeric and categorical data in a structured and consistent way,\n",
    "preparing the data for machine learning models.\n",
    "\n",
    "\n",
    "\n",
    "\n",
    "\n"
   ]
  },
  {
   "cell_type": "code",
   "execution_count": 253,
   "metadata": {},
   "outputs": [],
   "source": [
    "\n",
    "# Numeric pipeline \n",
    "numeric_transformer = Pipeline(steps=[\n",
    "    ('imputer', SimpleImputer(strategy='mean')),            \n",
    "    ('scaler', StandardScaler()),                            \n",
    "    ('power_transformer', PowerTransformer(method=\"yeo-johnson\")) \n",
    "])\n",
    "\n",
    "# Categorical pipeline\n",
    "categorical_transformer = Pipeline(steps=[\n",
    "    ('imputer', SimpleImputer(strategy='most_frequent')),   \n",
    "    ('onehot', OneHotEncoder(handle_unknown='ignore'))       \n",
    "])\n",
    "\n",
    "# Combine numeric and categorical pipelines\n",
    "preprocessor = ColumnTransformer(\n",
    "    transformers=[\n",
    "        ('num', numeric_transformer, numeric_features),\n",
    "        ('cat', categorical_transformer, categorical_features)\n",
    "    ]\n",
    ")\n",
    "\n",
    "\n"
   ]
  },
  {
   "cell_type": "markdown",
   "metadata": {},
   "source": [
    "`ENCODING MY TARGET VARIABLE`"
   ]
  },
  {
   "cell_type": "code",
   "execution_count": 254,
   "metadata": {},
   "outputs": [],
   "source": [
    "\n",
    "# Create a LabelEncoder object\n",
    "label_encoder = LabelEncoder()\n",
    "\n",
    "# Fit and transform the training labels\n",
    "y_train_encoded = label_encoder.fit_transform(y_train)\n",
    "\n",
    "#using the same label_encoder instance we transfromed the test labels )\n",
    "y_test_encoded = label_encoder.transform(y_test)\n"
   ]
  },
  {
   "cell_type": "markdown",
   "metadata": {},
   "source": [
    "## `MODELING`"
   ]
  },
  {
   "cell_type": "code",
   "execution_count": 255,
   "metadata": {},
   "outputs": [
    {
     "name": "stdout",
     "output_type": "stream",
     "text": [
      "Report for tree_classifier\n",
      "              precision    recall  f1-score   support\n",
      "\n",
      "           0       0.82      0.79      0.80       742\n",
      "           1       0.46      0.52      0.49       267\n",
      "\n",
      "    accuracy                           0.71      1009\n",
      "   macro avg       0.64      0.65      0.65      1009\n",
      "weighted avg       0.73      0.71      0.72      1009\n",
      "\n",
      "==================================================\n"
     ]
    },
    {
     "name": "stdout",
     "output_type": "stream",
     "text": [
      "Report for svc_classifier\n",
      "              precision    recall  f1-score   support\n",
      "\n",
      "           0       0.84      0.91      0.87       742\n",
      "           1       0.67      0.54      0.60       267\n",
      "\n",
      "    accuracy                           0.81      1009\n",
      "   macro avg       0.76      0.72      0.73      1009\n",
      "weighted avg       0.80      0.81      0.80      1009\n",
      "\n",
      "==================================================\n",
      "Report for rf_classifier\n",
      "              precision    recall  f1-score   support\n",
      "\n",
      "           0       0.84      0.89      0.86       742\n",
      "           1       0.63      0.52      0.57       267\n",
      "\n",
      "    accuracy                           0.79      1009\n",
      "   macro avg       0.73      0.70      0.71      1009\n",
      "weighted avg       0.78      0.79      0.78      1009\n",
      "\n",
      "==================================================\n",
      "Report for nb_classifier\n",
      "              precision    recall  f1-score   support\n",
      "\n",
      "           0       0.90      0.74      0.81       742\n",
      "           1       0.52      0.78      0.62       267\n",
      "\n",
      "    accuracy                           0.75      1009\n",
      "   macro avg       0.71      0.76      0.72      1009\n",
      "weighted avg       0.80      0.75      0.76      1009\n",
      "\n",
      "==================================================\n"
     ]
    }
   ],
   "source": [
    "models = [\n",
    "    ('tree_classifier',DecisionTreeClassifier(random_state=42)),\n",
    "    ('svc_classifier',SVC(random_state=42)),\n",
    "    ('rf_classifier',RandomForestClassifier(random_state=42)),\n",
    "    ('nb_classifier',GaussianNB()),\n",
    " \n",
    "]\n",
    " \n",
    "for model_name,classifier in models:\n",
    "    pipeline=Pipeline(steps=[\n",
    "        ('preprocessor',preprocessor),\n",
    "        ('classifier',classifier),\n",
    "    ])\n",
    " \n",
    "    pipeline.fit(X_train,y_train_encoded)\n",
    "    \n",
    "    y_pred = pipeline.predict(X_test)\n",
    " \n",
    "    print(f'Report for {model_name}')\n",
    "    print(classification_report(y_test_encoded,y_pred))\n",
    "    print ('=' * 50)"
   ]
  },
  {
   "cell_type": "markdown",
   "metadata": {},
   "source": [
    "## EVALUATION"
   ]
  },
  {
   "cell_type": "markdown",
   "metadata": {},
   "source": [
    "`Handling imbalanced dataset` \n",
    "`After running this code, X_train_resampled and y_train_resampled will contain the training data with a balanced class distribution.`"
   ]
  },
  {
   "cell_type": "code",
   "execution_count": 256,
   "metadata": {},
   "outputs": [],
   "source": [
    "# using over sampling method on the dataset to balance your dataset\n",
    "\n",
    "sampler = RandomOverSampler(random_state=42)\n",
    "X_train_resampled,y_train_resampled = sampler.fit_resample(X_train,y_train_encoded)\n"
   ]
  },
  {
   "cell_type": "code",
   "execution_count": 257,
   "metadata": {},
   "outputs": [
    {
     "name": "stdout",
     "output_type": "stream",
     "text": [
      "Report for tree_classifier\n",
      "              precision    recall  f1-score   support\n",
      "\n",
      "           0       0.83      0.81      0.82       742\n",
      "           1       0.51      0.54      0.52       267\n",
      "\n",
      "    accuracy                           0.74      1009\n",
      "   macro avg       0.67      0.68      0.67      1009\n",
      "weighted avg       0.74      0.74      0.74      1009\n",
      "\n",
      "==================================================\n",
      "Report for svc_classifier\n",
      "              precision    recall  f1-score   support\n",
      "\n",
      "           0       0.89      0.73      0.80       742\n",
      "           1       0.50      0.76      0.60       267\n",
      "\n",
      "    accuracy                           0.74      1009\n",
      "   macro avg       0.70      0.74      0.70      1009\n",
      "weighted avg       0.79      0.74      0.75      1009\n",
      "\n",
      "==================================================\n",
      "Report for rf_classifier\n",
      "              precision    recall  f1-score   support\n",
      "\n",
      "           0       0.85      0.84      0.85       742\n",
      "           1       0.58      0.60      0.59       267\n",
      "\n",
      "    accuracy                           0.78      1009\n",
      "   macro avg       0.71      0.72      0.72      1009\n",
      "weighted avg       0.78      0.78      0.78      1009\n",
      "\n",
      "==================================================\n",
      "Report for nb_classifier\n",
      "              precision    recall  f1-score   support\n",
      "\n",
      "           0       0.91      0.70      0.79       742\n",
      "           1       0.49      0.80      0.61       267\n",
      "\n",
      "    accuracy                           0.73      1009\n",
      "   macro avg       0.70      0.75      0.70      1009\n",
      "weighted avg       0.80      0.73      0.74      1009\n",
      "\n",
      "==================================================\n"
     ]
    }
   ],
   "source": [
    "# List of models to evaluate\n",
    "\n",
    "models = [\n",
    "    ('tree_classifier',DecisionTreeClassifier(random_state=42)),\n",
    "    ('svc_classifier',SVC(random_state=42)),\n",
    "    ('rf_classifier',RandomForestClassifier(random_state=42)),\n",
    "    ('nb_classifier',GaussianNB()),\n",
    " \n",
    "]\n",
    " \n",
    " # Loop through each model\n",
    "\n",
    "for model_name,classifier in models:\n",
    "    pipeline=Pipeline(steps=[\n",
    "        ('preprocessor',preprocessor),\n",
    "        ('classifier',classifier),\n",
    "    ])\n",
    " \n",
    "  # Fit the pipeline on the resampled training dat\n",
    "    \n",
    "    pipeline.fit(X_train_resampled,y_train_resampled)\n",
    "    \n",
    " # Make predictions on the test set\n",
    "        \n",
    "    y_pred = pipeline.predict(X_test)\n",
    " \n",
    "    print(f'Report for {model_name}')\n",
    "    print(classification_report(y_test_encoded,y_pred))\n",
    "    print ('=' * 50)"
   ]
  },
  {
   "cell_type": "code",
   "execution_count": 258,
   "metadata": {},
   "outputs": [
    {
     "data": {
      "text/plain": [
       "(5043, 19)"
      ]
     },
     "execution_count": 258,
     "metadata": {},
     "output_type": "execute_result"
    }
   ],
   "source": [
    "X.shape"
   ]
  },
  {
   "cell_type": "markdown",
   "metadata": {},
   "source": [
    "## FEATURE SELECTION AND IMPORTANCE"
   ]
  },
  {
   "cell_type": "markdown",
   "metadata": {},
   "source": [
    " `this code uses feature selection (SelectKBest) with mutual information to focus on the most informative features before training and evaluating machine learning models in a pipeline. This can be beneficial for improving model performance and reducing dimensionality.`"
   ]
  },
  {
   "cell_type": "code",
   "execution_count": 259,
   "metadata": {},
   "outputs": [],
   "source": [
    "# Feature selection using SelectKBest with mutual information\n",
    "\n",
    "selection = SelectKBest(mutual_info_classif,k=10)"
   ]
  },
  {
   "cell_type": "code",
   "execution_count": 260,
   "metadata": {},
   "outputs": [
    {
     "name": "stdout",
     "output_type": "stream",
     "text": [
      "<class 'pandas.core.frame.DataFrame'>\n",
      "RangeIndex: 5043 entries, 0 to 5042\n",
      "Data columns (total 20 columns):\n",
      " #   Column            Non-Null Count  Dtype  \n",
      "---  ------            --------------  -----  \n",
      " 0   gender            5043 non-null   object \n",
      " 1   SeniorCitizen     5043 non-null   bool   \n",
      " 2   Partner           5043 non-null   bool   \n",
      " 3   Dependents        5043 non-null   bool   \n",
      " 4   tenure            5043 non-null   int64  \n",
      " 5   PhoneService      5043 non-null   bool   \n",
      " 6   MultipleLines     5043 non-null   bool   \n",
      " 7   InternetService   5043 non-null   object \n",
      " 8   OnlineSecurity    5043 non-null   bool   \n",
      " 9   OnlineBackup      5043 non-null   bool   \n",
      " 10  DeviceProtection  5043 non-null   bool   \n",
      " 11  TechSupport       5043 non-null   bool   \n",
      " 12  StreamingTV       5043 non-null   bool   \n",
      " 13  StreamingMovies   5043 non-null   bool   \n",
      " 14  Contract          5043 non-null   object \n",
      " 15  PaperlessBilling  5043 non-null   bool   \n",
      " 16  PaymentMethod     5043 non-null   object \n",
      " 17  MonthlyCharges    5043 non-null   float64\n",
      " 18  TotalCharges      5035 non-null   float64\n",
      " 19  Churn             5043 non-null   bool   \n",
      "dtypes: bool(13), float64(2), int64(1), object(4)\n",
      "memory usage: 339.9+ KB\n"
     ]
    }
   ],
   "source": [
    "voda_df.info()"
   ]
  },
  {
   "cell_type": "code",
   "execution_count": 261,
   "metadata": {},
   "outputs": [
    {
     "name": "stdout",
     "output_type": "stream",
     "text": [
      "Report for tree_classifier\n",
      "              precision    recall  f1-score   support\n",
      "\n",
      "           0       0.83      0.80      0.82       742\n",
      "           1       0.51      0.56      0.53       267\n",
      "\n",
      "    accuracy                           0.74      1009\n",
      "   macro avg       0.67      0.68      0.67      1009\n",
      "weighted avg       0.75      0.74      0.74      1009\n",
      "\n",
      "==================================================\n",
      "Report for svc_classifier\n",
      "              precision    recall  f1-score   support\n",
      "\n",
      "           0       0.90      0.74      0.81       742\n",
      "           1       0.52      0.77      0.62       267\n",
      "\n",
      "    accuracy                           0.75      1009\n",
      "   macro avg       0.71      0.75      0.71      1009\n",
      "weighted avg       0.80      0.75      0.76      1009\n",
      "\n",
      "==================================================\n",
      "Report for rf_classifier\n",
      "              precision    recall  f1-score   support\n",
      "\n",
      "           0       0.85      0.82      0.83       742\n",
      "           1       0.54      0.60      0.57       267\n",
      "\n",
      "    accuracy                           0.76      1009\n",
      "   macro avg       0.70      0.71      0.70      1009\n",
      "weighted avg       0.77      0.76      0.76      1009\n",
      "\n",
      "==================================================\n",
      "Report for nb_classifier\n",
      "              precision    recall  f1-score   support\n",
      "\n",
      "           0       0.92      0.64      0.76       742\n",
      "           1       0.46      0.85      0.59       267\n",
      "\n",
      "    accuracy                           0.69      1009\n",
      "   macro avg       0.69      0.74      0.67      1009\n",
      "weighted avg       0.80      0.69      0.71      1009\n",
      "\n",
      "==================================================\n"
     ]
    }
   ],
   "source": [
    "# retraining the models with our resampled data\n",
    "models = [\n",
    "    ('tree_classifier',DecisionTreeClassifier(random_state=42)),\n",
    "    ('svc_classifier',SVC(random_state=42)),\n",
    "    ('rf_classifier',RandomForestClassifier(random_state=42)),\n",
    "    ('nb_classifier',GaussianNB()),\n",
    " \n",
    "]\n",
    " \n",
    "for model_name,classifier in models:\n",
    "    pipeline=Pipeline(steps=[\n",
    "        ('preprocessor',preprocessor),\n",
    "        ('feature_selection',selection),\n",
    "        ('classifier',classifier),\n",
    "        \n",
    "    ])\n",
    " \n",
    "    pipeline.fit(X_train_resampled,y_train_resampled)\n",
    "    \n",
    "    y_pred = pipeline.predict(X_test)\n",
    " \n",
    "    print(f'Report for {model_name}')\n",
    "    print(classification_report(y_test_encoded,y_pred))\n",
    "    print ('=' * 50)"
   ]
  },
  {
   "cell_type": "markdown",
   "metadata": {},
   "source": [
    "Key Comparisons:\n",
    "Precision (Non-Churn):\n",
    "\n",
    "Initial: 0.82\n",
    "Updated: 0.83\n",
    "\n",
    "Slight improvement in precision for non-churning customers.\n",
    "Precision (Churn):\n",
    "\n",
    "Initial: 0.47\n",
    "Updated: 0.51\n",
    "\n",
    "Slight improvement in precision for churning customers.\n",
    "Recall (Non-Churn):\n",
    "\n",
    "Initial: 0.78\n",
    "Updated: 0.81\n",
    "\n",
    "Improved recall for non-churning customers.\n",
    "Recall (Churn):\n",
    "\n",
    "Initial: 0.53\n",
    "Updated: 0.54\n",
    "\n",
    "Slight improvement in recall for churning customers.\n",
    "F1-Score (Non-Churn):\n",
    "\n",
    "Initial: 0.80\n",
    "Updated: 0.82\n",
    "\n",
    "Improved F1-score for non-churning customers.\n",
    "F1-Score (Churn):\n",
    "\n",
    "Initial: 0.50\n",
    "Updated: 0.52\n",
    "\n",
    "Slight improvement in F1-score for churning customers.\n",
    "Accuracy:\n",
    "\n",
    "Initial: 0.71\n",
    "Updated: 0.74\n",
    "\n",
    "Improved overall accuracy"
   ]
  },
  {
   "cell_type": "markdown",
   "metadata": {},
   "source": [
    "The svc_classifier demonstrates a higher precision for non-churning customers compared to the tree_classifier.\n",
    "It also shows a relatively balanced recall for both classes.\n",
    "The F1-score for churning customers is higher compared to the tree_classifier.\n",
    "\n",
    "The rf_classifier demonstrates high precision for non-churning customers and moderate precision for churning customers.\n",
    "It has a balanced recall for both classes, indicating a good ability to identify instances of both classes.\n",
    "The F1-score for churning customers is higher compared to the tree_classifier but slightly lower than the svc_classifier"
   ]
  },
  {
   "cell_type": "code",
   "execution_count": null,
   "metadata": {},
   "outputs": [],
   "source": []
  },
  {
   "cell_type": "markdown",
   "metadata": {},
   "source": [
    "## **ROC Curve Plotting:**"
   ]
  },
  {
   "cell_type": "markdown",
   "metadata": {},
   "source": [
    "\n",
    "\n",
    "`We are using the trained decision tree classifier to make predictions on a test set (X_test). The predicted values (rf_pred) are then compared with the true labels (y_test_encoded) to construct a confusion matrix.`"
   ]
  },
  {
   "cell_type": "code",
   "execution_count": 262,
   "metadata": {},
   "outputs": [
    {
     "data": {
      "text/html": [
       "<style>#sk-container-id-4 {color: black;}#sk-container-id-4 pre{padding: 0;}#sk-container-id-4 div.sk-toggleable {background-color: white;}#sk-container-id-4 label.sk-toggleable__label {cursor: pointer;display: block;width: 100%;margin-bottom: 0;padding: 0.3em;box-sizing: border-box;text-align: center;}#sk-container-id-4 label.sk-toggleable__label-arrow:before {content: \"▸\";float: left;margin-right: 0.25em;color: #696969;}#sk-container-id-4 label.sk-toggleable__label-arrow:hover:before {color: black;}#sk-container-id-4 div.sk-estimator:hover label.sk-toggleable__label-arrow:before {color: black;}#sk-container-id-4 div.sk-toggleable__content {max-height: 0;max-width: 0;overflow: hidden;text-align: left;background-color: #f0f8ff;}#sk-container-id-4 div.sk-toggleable__content pre {margin: 0.2em;color: black;border-radius: 0.25em;background-color: #f0f8ff;}#sk-container-id-4 input.sk-toggleable__control:checked~div.sk-toggleable__content {max-height: 200px;max-width: 100%;overflow: auto;}#sk-container-id-4 input.sk-toggleable__control:checked~label.sk-toggleable__label-arrow:before {content: \"▾\";}#sk-container-id-4 div.sk-estimator input.sk-toggleable__control:checked~label.sk-toggleable__label {background-color: #d4ebff;}#sk-container-id-4 div.sk-label input.sk-toggleable__control:checked~label.sk-toggleable__label {background-color: #d4ebff;}#sk-container-id-4 input.sk-hidden--visually {border: 0;clip: rect(1px 1px 1px 1px);clip: rect(1px, 1px, 1px, 1px);height: 1px;margin: -1px;overflow: hidden;padding: 0;position: absolute;width: 1px;}#sk-container-id-4 div.sk-estimator {font-family: monospace;background-color: #f0f8ff;border: 1px dotted black;border-radius: 0.25em;box-sizing: border-box;margin-bottom: 0.5em;}#sk-container-id-4 div.sk-estimator:hover {background-color: #d4ebff;}#sk-container-id-4 div.sk-parallel-item::after {content: \"\";width: 100%;border-bottom: 1px solid gray;flex-grow: 1;}#sk-container-id-4 div.sk-label:hover label.sk-toggleable__label {background-color: #d4ebff;}#sk-container-id-4 div.sk-serial::before {content: \"\";position: absolute;border-left: 1px solid gray;box-sizing: border-box;top: 0;bottom: 0;left: 50%;z-index: 0;}#sk-container-id-4 div.sk-serial {display: flex;flex-direction: column;align-items: center;background-color: white;padding-right: 0.2em;padding-left: 0.2em;position: relative;}#sk-container-id-4 div.sk-item {position: relative;z-index: 1;}#sk-container-id-4 div.sk-parallel {display: flex;align-items: stretch;justify-content: center;background-color: white;position: relative;}#sk-container-id-4 div.sk-item::before, #sk-container-id-4 div.sk-parallel-item::before {content: \"\";position: absolute;border-left: 1px solid gray;box-sizing: border-box;top: 0;bottom: 0;left: 50%;z-index: -1;}#sk-container-id-4 div.sk-parallel-item {display: flex;flex-direction: column;z-index: 1;position: relative;background-color: white;}#sk-container-id-4 div.sk-parallel-item:first-child::after {align-self: flex-end;width: 50%;}#sk-container-id-4 div.sk-parallel-item:last-child::after {align-self: flex-start;width: 50%;}#sk-container-id-4 div.sk-parallel-item:only-child::after {width: 0;}#sk-container-id-4 div.sk-dashed-wrapped {border: 1px dashed gray;margin: 0 0.4em 0.5em 0.4em;box-sizing: border-box;padding-bottom: 0.4em;background-color: white;}#sk-container-id-4 div.sk-label label {font-family: monospace;font-weight: bold;display: inline-block;line-height: 1.2em;}#sk-container-id-4 div.sk-label-container {text-align: center;}#sk-container-id-4 div.sk-container {/* jupyter's `normalize.less` sets `[hidden] { display: none; }` but bootstrap.min.css set `[hidden] { display: none !important; }` so we also need the `!important` here to be able to override the default hidden behavior on the sphinx rendered scikit-learn.org. See: https://github.com/scikit-learn/scikit-learn/issues/21755 */display: inline-block !important;position: relative;}#sk-container-id-4 div.sk-text-repr-fallback {display: none;}</style><div id=\"sk-container-id-4\" class=\"sk-top-container\"><div class=\"sk-text-repr-fallback\"><pre>Pipeline(steps=[(&#x27;preprocessor&#x27;,\n",
       "                 ColumnTransformer(transformers=[(&#x27;num&#x27;,\n",
       "                                                  Pipeline(steps=[(&#x27;imputer&#x27;,\n",
       "                                                                   SimpleImputer()),\n",
       "                                                                  (&#x27;scaler&#x27;,\n",
       "                                                                   StandardScaler()),\n",
       "                                                                  (&#x27;power_transformer&#x27;,\n",
       "                                                                   PowerTransformer())]),\n",
       "                                                  Index([&#x27;tenure&#x27;, &#x27;MonthlyCharges&#x27;, &#x27;TotalCharges&#x27;], dtype=&#x27;object&#x27;)),\n",
       "                                                 (&#x27;cat&#x27;,\n",
       "                                                  Pipeline(steps=[(&#x27;imputer&#x27;,\n",
       "                                                                   SimpleImputer(strategy=&#x27;most_frequent&#x27;)),\n",
       "                                                                  (&#x27;onehot&#x27;,\n",
       "                                                                   OneHotEncoder...\n",
       "       &#x27;MultipleLines&#x27;, &#x27;InternetService&#x27;, &#x27;OnlineSecurity&#x27;, &#x27;OnlineBackup&#x27;,\n",
       "       &#x27;DeviceProtection&#x27;, &#x27;TechSupport&#x27;, &#x27;StreamingTV&#x27;, &#x27;StreamingMovies&#x27;,\n",
       "       &#x27;Contract&#x27;, &#x27;PaperlessBilling&#x27;, &#x27;PaymentMethod&#x27;],\n",
       "      dtype=&#x27;object&#x27;))])),\n",
       "                (&#x27;feature_selection&#x27;,\n",
       "                 SelectKBest(score_func=&lt;function mutual_info_classif at 0x000001BB013C6840&gt;)),\n",
       "                (&#x27;classifier&#x27;, DecisionTreeClassifier(random_state=42))])</pre><b>In a Jupyter environment, please rerun this cell to show the HTML representation or trust the notebook. <br />On GitHub, the HTML representation is unable to render, please try loading this page with nbviewer.org.</b></div><div class=\"sk-container\" hidden><div class=\"sk-item sk-dashed-wrapped\"><div class=\"sk-label-container\"><div class=\"sk-label sk-toggleable\"><input class=\"sk-toggleable__control sk-hidden--visually\" id=\"sk-estimator-id-34\" type=\"checkbox\" ><label for=\"sk-estimator-id-34\" class=\"sk-toggleable__label sk-toggleable__label-arrow\">Pipeline</label><div class=\"sk-toggleable__content\"><pre>Pipeline(steps=[(&#x27;preprocessor&#x27;,\n",
       "                 ColumnTransformer(transformers=[(&#x27;num&#x27;,\n",
       "                                                  Pipeline(steps=[(&#x27;imputer&#x27;,\n",
       "                                                                   SimpleImputer()),\n",
       "                                                                  (&#x27;scaler&#x27;,\n",
       "                                                                   StandardScaler()),\n",
       "                                                                  (&#x27;power_transformer&#x27;,\n",
       "                                                                   PowerTransformer())]),\n",
       "                                                  Index([&#x27;tenure&#x27;, &#x27;MonthlyCharges&#x27;, &#x27;TotalCharges&#x27;], dtype=&#x27;object&#x27;)),\n",
       "                                                 (&#x27;cat&#x27;,\n",
       "                                                  Pipeline(steps=[(&#x27;imputer&#x27;,\n",
       "                                                                   SimpleImputer(strategy=&#x27;most_frequent&#x27;)),\n",
       "                                                                  (&#x27;onehot&#x27;,\n",
       "                                                                   OneHotEncoder...\n",
       "       &#x27;MultipleLines&#x27;, &#x27;InternetService&#x27;, &#x27;OnlineSecurity&#x27;, &#x27;OnlineBackup&#x27;,\n",
       "       &#x27;DeviceProtection&#x27;, &#x27;TechSupport&#x27;, &#x27;StreamingTV&#x27;, &#x27;StreamingMovies&#x27;,\n",
       "       &#x27;Contract&#x27;, &#x27;PaperlessBilling&#x27;, &#x27;PaymentMethod&#x27;],\n",
       "      dtype=&#x27;object&#x27;))])),\n",
       "                (&#x27;feature_selection&#x27;,\n",
       "                 SelectKBest(score_func=&lt;function mutual_info_classif at 0x000001BB013C6840&gt;)),\n",
       "                (&#x27;classifier&#x27;, DecisionTreeClassifier(random_state=42))])</pre></div></div></div><div class=\"sk-serial\"><div class=\"sk-item sk-dashed-wrapped\"><div class=\"sk-label-container\"><div class=\"sk-label sk-toggleable\"><input class=\"sk-toggleable__control sk-hidden--visually\" id=\"sk-estimator-id-35\" type=\"checkbox\" ><label for=\"sk-estimator-id-35\" class=\"sk-toggleable__label sk-toggleable__label-arrow\">preprocessor: ColumnTransformer</label><div class=\"sk-toggleable__content\"><pre>ColumnTransformer(transformers=[(&#x27;num&#x27;,\n",
       "                                 Pipeline(steps=[(&#x27;imputer&#x27;, SimpleImputer()),\n",
       "                                                 (&#x27;scaler&#x27;, StandardScaler()),\n",
       "                                                 (&#x27;power_transformer&#x27;,\n",
       "                                                  PowerTransformer())]),\n",
       "                                 Index([&#x27;tenure&#x27;, &#x27;MonthlyCharges&#x27;, &#x27;TotalCharges&#x27;], dtype=&#x27;object&#x27;)),\n",
       "                                (&#x27;cat&#x27;,\n",
       "                                 Pipeline(steps=[(&#x27;imputer&#x27;,\n",
       "                                                  SimpleImputer(strategy=&#x27;most_frequent&#x27;)),\n",
       "                                                 (&#x27;onehot&#x27;,\n",
       "                                                  OneHotEncoder(handle_unknown=&#x27;ignore&#x27;))]),\n",
       "                                 Index([&#x27;gender&#x27;, &#x27;SeniorCitizen&#x27;, &#x27;Partner&#x27;, &#x27;Dependents&#x27;, &#x27;PhoneService&#x27;,\n",
       "       &#x27;MultipleLines&#x27;, &#x27;InternetService&#x27;, &#x27;OnlineSecurity&#x27;, &#x27;OnlineBackup&#x27;,\n",
       "       &#x27;DeviceProtection&#x27;, &#x27;TechSupport&#x27;, &#x27;StreamingTV&#x27;, &#x27;StreamingMovies&#x27;,\n",
       "       &#x27;Contract&#x27;, &#x27;PaperlessBilling&#x27;, &#x27;PaymentMethod&#x27;],\n",
       "      dtype=&#x27;object&#x27;))])</pre></div></div></div><div class=\"sk-parallel\"><div class=\"sk-parallel-item\"><div class=\"sk-item\"><div class=\"sk-label-container\"><div class=\"sk-label sk-toggleable\"><input class=\"sk-toggleable__control sk-hidden--visually\" id=\"sk-estimator-id-36\" type=\"checkbox\" ><label for=\"sk-estimator-id-36\" class=\"sk-toggleable__label sk-toggleable__label-arrow\">num</label><div class=\"sk-toggleable__content\"><pre>Index([&#x27;tenure&#x27;, &#x27;MonthlyCharges&#x27;, &#x27;TotalCharges&#x27;], dtype=&#x27;object&#x27;)</pre></div></div></div><div class=\"sk-serial\"><div class=\"sk-item\"><div class=\"sk-serial\"><div class=\"sk-item\"><div class=\"sk-estimator sk-toggleable\"><input class=\"sk-toggleable__control sk-hidden--visually\" id=\"sk-estimator-id-37\" type=\"checkbox\" ><label for=\"sk-estimator-id-37\" class=\"sk-toggleable__label sk-toggleable__label-arrow\">SimpleImputer</label><div class=\"sk-toggleable__content\"><pre>SimpleImputer()</pre></div></div></div><div class=\"sk-item\"><div class=\"sk-estimator sk-toggleable\"><input class=\"sk-toggleable__control sk-hidden--visually\" id=\"sk-estimator-id-38\" type=\"checkbox\" ><label for=\"sk-estimator-id-38\" class=\"sk-toggleable__label sk-toggleable__label-arrow\">StandardScaler</label><div class=\"sk-toggleable__content\"><pre>StandardScaler()</pre></div></div></div><div class=\"sk-item\"><div class=\"sk-estimator sk-toggleable\"><input class=\"sk-toggleable__control sk-hidden--visually\" id=\"sk-estimator-id-39\" type=\"checkbox\" ><label for=\"sk-estimator-id-39\" class=\"sk-toggleable__label sk-toggleable__label-arrow\">PowerTransformer</label><div class=\"sk-toggleable__content\"><pre>PowerTransformer()</pre></div></div></div></div></div></div></div></div><div class=\"sk-parallel-item\"><div class=\"sk-item\"><div class=\"sk-label-container\"><div class=\"sk-label sk-toggleable\"><input class=\"sk-toggleable__control sk-hidden--visually\" id=\"sk-estimator-id-40\" type=\"checkbox\" ><label for=\"sk-estimator-id-40\" class=\"sk-toggleable__label sk-toggleable__label-arrow\">cat</label><div class=\"sk-toggleable__content\"><pre>Index([&#x27;gender&#x27;, &#x27;SeniorCitizen&#x27;, &#x27;Partner&#x27;, &#x27;Dependents&#x27;, &#x27;PhoneService&#x27;,\n",
       "       &#x27;MultipleLines&#x27;, &#x27;InternetService&#x27;, &#x27;OnlineSecurity&#x27;, &#x27;OnlineBackup&#x27;,\n",
       "       &#x27;DeviceProtection&#x27;, &#x27;TechSupport&#x27;, &#x27;StreamingTV&#x27;, &#x27;StreamingMovies&#x27;,\n",
       "       &#x27;Contract&#x27;, &#x27;PaperlessBilling&#x27;, &#x27;PaymentMethod&#x27;],\n",
       "      dtype=&#x27;object&#x27;)</pre></div></div></div><div class=\"sk-serial\"><div class=\"sk-item\"><div class=\"sk-serial\"><div class=\"sk-item\"><div class=\"sk-estimator sk-toggleable\"><input class=\"sk-toggleable__control sk-hidden--visually\" id=\"sk-estimator-id-41\" type=\"checkbox\" ><label for=\"sk-estimator-id-41\" class=\"sk-toggleable__label sk-toggleable__label-arrow\">SimpleImputer</label><div class=\"sk-toggleable__content\"><pre>SimpleImputer(strategy=&#x27;most_frequent&#x27;)</pre></div></div></div><div class=\"sk-item\"><div class=\"sk-estimator sk-toggleable\"><input class=\"sk-toggleable__control sk-hidden--visually\" id=\"sk-estimator-id-42\" type=\"checkbox\" ><label for=\"sk-estimator-id-42\" class=\"sk-toggleable__label sk-toggleable__label-arrow\">OneHotEncoder</label><div class=\"sk-toggleable__content\"><pre>OneHotEncoder(handle_unknown=&#x27;ignore&#x27;)</pre></div></div></div></div></div></div></div></div></div></div><div class=\"sk-item\"><div class=\"sk-estimator sk-toggleable\"><input class=\"sk-toggleable__control sk-hidden--visually\" id=\"sk-estimator-id-43\" type=\"checkbox\" ><label for=\"sk-estimator-id-43\" class=\"sk-toggleable__label sk-toggleable__label-arrow\">SelectKBest</label><div class=\"sk-toggleable__content\"><pre>SelectKBest(score_func=&lt;function mutual_info_classif at 0x000001BB013C6840&gt;)</pre></div></div></div><div class=\"sk-item\"><div class=\"sk-estimator sk-toggleable\"><input class=\"sk-toggleable__control sk-hidden--visually\" id=\"sk-estimator-id-44\" type=\"checkbox\" ><label for=\"sk-estimator-id-44\" class=\"sk-toggleable__label sk-toggleable__label-arrow\">DecisionTreeClassifier</label><div class=\"sk-toggleable__content\"><pre>DecisionTreeClassifier(random_state=42)</pre></div></div></div></div></div></div></div>"
      ],
      "text/plain": [
       "Pipeline(steps=[('preprocessor',\n",
       "                 ColumnTransformer(transformers=[('num',\n",
       "                                                  Pipeline(steps=[('imputer',\n",
       "                                                                   SimpleImputer()),\n",
       "                                                                  ('scaler',\n",
       "                                                                   StandardScaler()),\n",
       "                                                                  ('power_transformer',\n",
       "                                                                   PowerTransformer())]),\n",
       "                                                  Index(['tenure', 'MonthlyCharges', 'TotalCharges'], dtype='object')),\n",
       "                                                 ('cat',\n",
       "                                                  Pipeline(steps=[('imputer',\n",
       "                                                                   SimpleImputer(strategy='most_frequent')),\n",
       "                                                                  ('onehot',\n",
       "                                                                   OneHotEncoder...\n",
       "       'MultipleLines', 'InternetService', 'OnlineSecurity', 'OnlineBackup',\n",
       "       'DeviceProtection', 'TechSupport', 'StreamingTV', 'StreamingMovies',\n",
       "       'Contract', 'PaperlessBilling', 'PaymentMethod'],\n",
       "      dtype='object'))])),\n",
       "                ('feature_selection',\n",
       "                 SelectKBest(score_func=<function mutual_info_classif at 0x000001BB013C6840>)),\n",
       "                ('classifier', DecisionTreeClassifier(random_state=42))])"
      ]
     },
     "execution_count": 262,
     "metadata": {},
     "output_type": "execute_result"
    }
   ],
   "source": [
    "# decision tree pipeline\n",
    "\n",
    "decision_tree_balanced= Pipeline([\n",
    "    ('preprocessor',preprocessor ),\n",
    "    ('feature_selection',selection),\n",
    "    ('classifier', DecisionTreeClassifier(random_state=42))\n",
    "])\n",
    "# Add feature selection and more \n",
    "\n",
    "decision_tree_balanced.fit(X_train_resampled,y_train_resampled)"
   ]
  },
  {
   "cell_type": "markdown",
   "metadata": {},
   "source": [
    "``"
   ]
  },
  {
   "cell_type": "code",
   "execution_count": 263,
   "metadata": {},
   "outputs": [
    {
     "name": "stdout",
     "output_type": "stream",
     "text": [
      "[[586 156]\n",
      " [133 134]]\n"
     ]
    }
   ],
   "source": [
    "\n",
    "# Evaluating Model Confusion Matrix:\n",
    "\n",
    "rf_pred = decision_tree_balanced.predict(X_test)\n",
    "\n",
    "print(confusion_matrix(y_test_encoded,rf_pred))"
   ]
  },
  {
   "cell_type": "code",
   "execution_count": 264,
   "metadata": {},
   "outputs": [
    {
     "name": "stdout",
     "output_type": "stream",
     "text": [
      "AUC: 0.65\n"
     ]
    }
   ],
   "source": [
    "# Evaluating ROC Curve and AUC:d\n",
    "\n",
    "y_pred_prob = decision_tree_balanced.predict_proba(X_test)[:, 1]\n",
    "\n",
    "fpr, tpr, thresholds = roc_curve(y_test_encoded, y_pred_prob)\n",
    "\n",
    "roc_auc = roc_auc_score(y_test_encoded, y_pred_prob)\n",
    "\n",
    "print(f'AUC: {roc_auc:.2f}')"
   ]
  },
  {
   "cell_type": "code",
   "execution_count": 265,
   "metadata": {},
   "outputs": [
    {
     "data": {
      "image/png": "[encoded data removed]",
      "text/plain": [
       "<Figure size 800x800 with 1 Axes>"
      ]
     },
     "metadata": {},
     "output_type": "display_data"
    }
   ],
   "source": [
    "# Visulization\n",
    "\n",
    "y_pred_prob = decision_tree_balanced.predict_proba(X_test)[:, 1]\n",
    "\n",
    "fpr, tpr, thresholds = roc_curve(y_test_encoded, y_pred_prob)\n",
    "\n",
    "roc_auc = roc_auc_score(y_test_encoded, y_pred_prob)\n",
    "\n",
    "# Plotting ROC Curve\n",
    "plt.figure(figsize=(8, 8))\n",
    "plt.plot(fpr, tpr, color='darkorange', lw=2, label=f'AUC = {roc_auc:.2f}')\n",
    "plt.plot([0, 1], [0, 1], color='navy', lw=2, linestyle='--')\n",
    "plt.xlabel('False Positive Rate')\n",
    "plt.ylabel('True Positive Rate')\n",
    "plt.title('ROC Curve')\n",
    "plt.legend(loc='lower right')\n",
    "plt.show()\n"
   ]
  },
  {
   "cell_type": "code",
   "execution_count": 266,
   "metadata": {},
   "outputs": [
    {
     "data": {
      "text/html": [
       "<div>\n",
       "<style scoped>\n",
       "    .dataframe tbody tr th:only-of-type {\n",
       "        vertical-align: middle;\n",
       "    }\n",
       "\n",
       "    .dataframe tbody tr th {\n",
       "        vertical-align: top;\n",
       "    }\n",
       "\n",
       "    .dataframe thead th {\n",
       "        text-align: right;\n",
       "    }\n",
       "</style>\n",
       "<table border=\"1\" class=\"dataframe\">\n",
       "  <thead>\n",
       "    <tr style=\"text-align: right;\">\n",
       "      <th></th>\n",
       "      <th>False Positive</th>\n",
       "      <th>True Positive</th>\n",
       "      <th>Threshold</th>\n",
       "    </tr>\n",
       "  </thead>\n",
       "  <tbody>\n",
       "    <tr>\n",
       "      <th>0</th>\n",
       "      <td>0.000000</td>\n",
       "      <td>0.000000</td>\n",
       "      <td>inf</td>\n",
       "    </tr>\n",
       "    <tr>\n",
       "      <th>1</th>\n",
       "      <td>0.208895</td>\n",
       "      <td>0.494382</td>\n",
       "      <td>1.000000</td>\n",
       "    </tr>\n",
       "    <tr>\n",
       "      <th>2</th>\n",
       "      <td>0.208895</td>\n",
       "      <td>0.498127</td>\n",
       "      <td>0.857143</td>\n",
       "    </tr>\n",
       "    <tr>\n",
       "      <th>3</th>\n",
       "      <td>0.210243</td>\n",
       "      <td>0.498127</td>\n",
       "      <td>0.750000</td>\n",
       "    </tr>\n",
       "    <tr>\n",
       "      <th>4</th>\n",
       "      <td>0.210243</td>\n",
       "      <td>0.501873</td>\n",
       "      <td>0.666667</td>\n",
       "    </tr>\n",
       "    <tr>\n",
       "      <th>5</th>\n",
       "      <td>0.211590</td>\n",
       "      <td>0.513109</td>\n",
       "      <td>0.500000</td>\n",
       "    </tr>\n",
       "    <tr>\n",
       "      <th>6</th>\n",
       "      <td>0.211590</td>\n",
       "      <td>0.516854</td>\n",
       "      <td>0.200000</td>\n",
       "    </tr>\n",
       "    <tr>\n",
       "      <th>7</th>\n",
       "      <td>1.000000</td>\n",
       "      <td>1.000000</td>\n",
       "      <td>0.000000</td>\n",
       "    </tr>\n",
       "  </tbody>\n",
       "</table>\n",
       "</div>"
      ],
      "text/plain": [
       "   False Positive  True Positive  Threshold\n",
       "0        0.000000       0.000000        inf\n",
       "1        0.208895       0.494382   1.000000\n",
       "2        0.208895       0.498127   0.857143\n",
       "3        0.210243       0.498127   0.750000\n",
       "4        0.210243       0.501873   0.666667\n",
       "5        0.211590       0.513109   0.500000\n",
       "6        0.211590       0.516854   0.200000\n",
       "7        1.000000       1.000000   0.000000"
      ]
     },
     "execution_count": 266,
     "metadata": {},
     "output_type": "execute_result"
    }
   ],
   "source": [
    "\n",
    "# Creating a DataFrame with ROC curve information\n",
    "df = pd.DataFrame(zip(fpr, tpr, thresholds), columns=['False Positive', 'True Positive', 'Threshold'])\n",
    "\n",
    "\n",
    "df\n"
   ]
  },
  {
   "cell_type": "markdown",
   "metadata": {},
   "source": [
    "`GOODNIGHT TEAM AZUBI`"
   ]
  },
  {
   "cell_type": "markdown",
   "metadata": {},
   "source": [
    "# Business Impact "
   ]
  },
  {
   "cell_type": "markdown",
   "metadata": {},
   "source": [
    "`False Positive (FPR): 0.20`\n",
    "\n",
    "`True Positive (TPR): 0.51`\n",
    "\n",
    "`Threshold : 0.66`\n",
    "\n",
    "\n",
    "Interpretation:\n",
    "As the threshold decreases to 0.66, some customers are predicted as churning.\n",
    "Business Impact: A 20% false positive rate means that 20% of non-churning customers are incorrectly predicted as churning, which might result in unnecessary retention efforts for these customers.\n",
    "Row 3 (Threshold=0.666):\n",
    "\n",
    "\n",
    "Implications:\n",
    "Unnecessary retention efforts and resources may be allocated to customers who were not actually intending to churn.\n",
    "Costs associated with targeted promotions, loyalty programs, or customer outreach.\n",
    "\n",
    "\n",
    "Actionable Insights:\n",
    "Evaluate the effectiveness of current retention strategies and identify areas for optimization."
   ]
  },
  {
   "cell_type": "code",
   "execution_count": 267,
   "metadata": {},
   "outputs": [
    {
     "name": "stdout",
     "output_type": "stream",
     "text": [
      "<class 'pandas.core.frame.DataFrame'>\n",
      "RangeIndex: 5043 entries, 0 to 5042\n",
      "Data columns (total 20 columns):\n",
      " #   Column            Non-Null Count  Dtype  \n",
      "---  ------            --------------  -----  \n",
      " 0   gender            5043 non-null   object \n",
      " 1   SeniorCitizen     5043 non-null   bool   \n",
      " 2   Partner           5043 non-null   bool   \n",
      " 3   Dependents        5043 non-null   bool   \n",
      " 4   tenure            5043 non-null   int64  \n",
      " 5   PhoneService      5043 non-null   bool   \n",
      " 6   MultipleLines     5043 non-null   bool   \n",
      " 7   InternetService   5043 non-null   object \n",
      " 8   OnlineSecurity    5043 non-null   bool   \n",
      " 9   OnlineBackup      5043 non-null   bool   \n",
      " 10  DeviceProtection  5043 non-null   bool   \n",
      " 11  TechSupport       5043 non-null   bool   \n",
      " 12  StreamingTV       5043 non-null   bool   \n",
      " 13  StreamingMovies   5043 non-null   bool   \n",
      " 14  Contract          5043 non-null   object \n",
      " 15  PaperlessBilling  5043 non-null   bool   \n",
      " 16  PaymentMethod     5043 non-null   object \n",
      " 17  MonthlyCharges    5043 non-null   float64\n",
      " 18  TotalCharges      5035 non-null   float64\n",
      " 19  Churn             5043 non-null   bool   \n",
      "dtypes: bool(13), float64(2), int64(1), object(4)\n",
      "memory usage: 339.9+ KB\n"
     ]
    }
   ],
   "source": [
    "voda_df.info()"
   ]
  },
  {
   "cell_type": "code",
   "execution_count": null,
   "metadata": {},
   "outputs": [],
   "source": []
  },
  {
   "cell_type": "code",
   "execution_count": 268,
   "metadata": {},
   "outputs": [
    {
     "data": {
      "text/plain": [
       "array([ 0,  1,  2,  9, 16, 17, 30, 32, 34, 37], dtype=int64)"
      ]
     },
     "execution_count": 268,
     "metadata": {},
     "output_type": "execute_result"
    }
   ],
   "source": [
    "selection.get_support(indices=True)\n",
    "\n",
    "# Use the name features/At"
   ]
  },
  {
   "cell_type": "markdown",
   "metadata": {},
   "source": [
    "# Insight "
   ]
  },
  {
   "cell_type": "markdown",
   "metadata": {},
   "source": [
    "`gender, SeniorCitizen, Partner, PaymentMethod, MonthlyCharges` \n",
    "\n",
    "These are the faetures/columns that have been used for the machine learning \n",
    "\n",
    "Utilizing these features for customer segmentation can help tailor marketing and retention strategies for different customer groups.\n",
    "The inclusion of these features in a machine learning model suggests that they have predictive power in relation to the target variable in this case the churn.\n",
    "Regularly monitoring the impact of these features and updating strategies based on changing trends is crucial for adapting to evolving customer behaviors.\n",
    "\n",
    "Stakeholder Engagement:\n",
    "Engage with relevant stakeholders, including marketing teams, customer service, and decision-makers.\n"
   ]
  },
  {
   "cell_type": "code",
   "execution_count": 269,
   "metadata": {},
   "outputs": [],
   "source": [
    "# Create the 'models' directory if it doesn't exist\n",
    "os.makedirs('./models/', exist_ok=True)"
   ]
  },
  {
   "cell_type": "markdown",
   "metadata": {},
   "source": []
  },
  {
   "cell_type": "code",
   "execution_count": 270,
   "metadata": {},
   "outputs": [],
   "source": [
    "\n",
    "\n",
    "# models = [\n",
    "#     ('tree_classifier', DecisionTreeClassifier(random_state=42)),\n",
    "#     ('svc_classifier', SVC(random_state=42)),\n",
    "#     ('rf_classifier', RandomForestClassifier(random_state=42)),\n",
    "#     ('nb_classifier', GaussianNB()),\n",
    "#     ('gb_classifier', GradientBoostingClassifier()),\n",
    "# ]\n",
    "\n",
    "# # Loop through each model\n",
    "# for model_name, classifier in models:\n",
    "#     pipeline = Pipeline(steps=[\n",
    "#         ('preprocessor', preprocessor),\n",
    "#         ('classifier', classifier),\n",
    "#     ])\n",
    "\n",
    "#     # Fit the pipeline on the resampled training data\n",
    "#     pipeline.fit(X_train_resampled, y_train_resampled)\n",
    "\n",
    "#     # Make predictions on the test set\n",
    "#     y_pred = pipeline.predict(X_test)\n",
    "\n",
    "#     # Print report for the model\n",
    "#     print(f'Report for {model_name}')\n",
    "#     print(classification_report(y_test_encoded, y_pred))\n",
    "#     print('=' * 50)\n",
    "\n",
    "  \n"
   ]
  },
  {
   "cell_type": "code",
   "execution_count": 271,
   "metadata": {},
   "outputs": [],
   "source": [
    "import os\n",
    "import joblib\n",
    "from sklearn.metrics import classification_report\n",
    "from sklearn.pipeline import Pipeline\n",
    "from sklearn.tree import DecisionTreeClassifier\n",
    "from sklearn.svm import SVC\n",
    "from sklearn.ensemble import RandomForestClassifier, GradientBoostingClassifier\n",
    "from sklearn.naive_bayes import GaussianNB"
   ]
  },
  {
   "cell_type": "code",
   "execution_count": null,
   "metadata": {},
   "outputs": [],
   "source": []
  },
  {
   "cell_type": "markdown",
   "metadata": {},
   "source": [
    "# Hyperparameter GridSearchCV"
   ]
  },
  {
   "cell_type": "code",
   "execution_count": 272,
   "metadata": {},
   "outputs": [
    {
     "data": {
      "text/plain": [
       "['./models/nb_classifier.joblib']"
      ]
     },
     "execution_count": 272,
     "metadata": {},
     "output_type": "execute_result"
    }
   ],
   "source": [
    "joblib.dump(LabelEncoder,'./models/encoder.joblib')\n",
    "joblib.dump(pipeline, f'./models/{model_name}.joblib')"
   ]
  },
  {
   "cell_type": "code",
   "execution_count": null,
   "metadata": {},
   "outputs": [],
   "source": [
    "joblib.dump(pipeline, f'./models/{model_name}.joblib')\n",
    "# Save the trained model\n",
    "joblib.dump(decision_tree_balanced, './models/decision_tree_balanced.joblib')\n",
    "# Save the LabelEncoder object\n",
    "joblib.dump(label_encoder, './models/label_encoder.joblib')"
   ]
  }
 ],
 "metadata": {
  "kernelspec": {
   "display_name": "Python 3",
   "language": "python",
   "name": "python3"
  },
  "language_info": {
   "codemirror_mode": {
    "name": "ipython",
    "version": 3
   },
   "file_extension": ".py",
   "mimetype": "text/x-python",
   "name": "python",
   "nbconvert_exporter": "python",
   "pygments_lexer": "ipython3",
   "version": "3.11.8"
  }
 },
 "nbformat": 4,
 "nbformat_minor": 2
}
